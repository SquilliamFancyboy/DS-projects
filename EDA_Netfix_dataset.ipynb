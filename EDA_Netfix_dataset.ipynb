{
  "nbformat": 4,
  "nbformat_minor": 0,
  "metadata": {
    "colab": {
      "provenance": []
    },
    "kernelspec": {
      "name": "python3",
      "display_name": "Python 3"
    },
    "language_info": {
      "name": "python"
    }
  },
  "cells": [
    {
      "cell_type": "code",
      "execution_count": null,
      "metadata": {
        "id": "gswBAZJManD5"
      },
      "outputs": [],
      "source": [
        "import pandas as pd\n",
        "import numpy as np\n",
        "import matplotlib.pyplot as plt\n",
        "import seaborn as sns\n",
        "from plotly import graph_objects as go"
      ]
    },
    {
      "cell_type": "markdown",
      "source": [
        "# Проведем разведочный анализ и построим рекомендательную систему на основе датасета фильмов и сериалов стримингового сервиса Netflix\n",
        "(https://www.kaggle.com/datasets/shivamb/netflix-shows)\n",
        "\n",
        "библиотеки для анализа данных (pandas и numpy), а также библиотеки для визуализации matplotlib и seaborn"
      ],
      "metadata": {
        "id": "3QePj0GtrNeH"
      }
    },
    {
      "cell_type": "code",
      "source": [
        "!wget 'https://drive.google.com/uc?id=1cunfb3ij7N1aRIhmlx6dXhiQfpecphrc' -O netflix_titles.csv"
      ],
      "metadata": {
        "colab": {
          "base_uri": "https://localhost:8080/"
        },
        "id": "9jskj240pwEV",
        "outputId": "bc2446bc-59dc-4bf9-b5d6-f946e1a2891e"
      },
      "execution_count": null,
      "outputs": [
        {
          "output_type": "stream",
          "name": "stdout",
          "text": [
            "--2023-07-06 15:08:04--  https://drive.google.com/uc?id=1cunfb3ij7N1aRIhmlx6dXhiQfpecphrc\n",
            "Resolving drive.google.com (drive.google.com)... 142.251.171.100, 142.251.171.101, 142.251.171.102, ...\n",
            "Connecting to drive.google.com (drive.google.com)|142.251.171.100|:443... connected.\n",
            "HTTP request sent, awaiting response... 303 See Other\n",
            "Location: https://doc-04-c0-docs.googleusercontent.com/docs/securesc/ha0ro937gcuc7l7deffksulhg5h7mbp1/us32a23fo1tfec3adtv18rv6labk5msr/1688656050000/14904333240138417226/*/1cunfb3ij7N1aRIhmlx6dXhiQfpecphrc?uuid=e80e2fa8-78e4-49d7-971f-9f46ccdf65c9 [following]\n",
            "Warning: wildcards not supported in HTTP.\n",
            "--2023-07-06 15:08:05--  https://doc-04-c0-docs.googleusercontent.com/docs/securesc/ha0ro937gcuc7l7deffksulhg5h7mbp1/us32a23fo1tfec3adtv18rv6labk5msr/1688656050000/14904333240138417226/*/1cunfb3ij7N1aRIhmlx6dXhiQfpecphrc?uuid=e80e2fa8-78e4-49d7-971f-9f46ccdf65c9\n",
            "Resolving doc-04-c0-docs.googleusercontent.com (doc-04-c0-docs.googleusercontent.com)... 74.125.124.132, 2607:f8b0:4001:c14::84\n",
            "Connecting to doc-04-c0-docs.googleusercontent.com (doc-04-c0-docs.googleusercontent.com)|74.125.124.132|:443... connected.\n",
            "HTTP request sent, awaiting response... 200 OK\n",
            "Length: 3000491 (2.9M) [text/csv]\n",
            "Saving to: ‘netflix_titles.csv’\n",
            "\n",
            "netflix_titles.csv  100%[===================>]   2.86M  --.-KB/s    in 0.02s   \n",
            "\n",
            "2023-07-06 15:08:05 (126 MB/s) - ‘netflix_titles.csv’ saved [3000491/3000491]\n",
            "\n"
          ]
        }
      ]
    },
    {
      "cell_type": "code",
      "source": [
        "df = pd.read_csv('netflix_titles.csv')\n",
        "df.head()"
      ],
      "metadata": {
        "colab": {
          "base_uri": "https://localhost:8080/",
          "height": 337
        },
        "id": "e7tUTWO1pwtN",
        "outputId": "b3d9c481-1be2-470d-8174-46da28a95b5e"
      },
      "execution_count": null,
      "outputs": [
        {
          "output_type": "execute_result",
          "data": {
            "text/plain": [
              "  show_id     type  title           director  \\\n",
              "0      s1  TV Show     3%                NaN   \n",
              "1      s2    Movie   7:19  Jorge Michel Grau   \n",
              "2      s3    Movie  23:59       Gilbert Chan   \n",
              "3      s4    Movie      9        Shane Acker   \n",
              "4      s5    Movie     21     Robert Luketic   \n",
              "\n",
              "                                                cast        country  \\\n",
              "0  João Miguel, Bianca Comparato, Michel Gomes, R...         Brazil   \n",
              "1  Demián Bichir, Héctor Bonilla, Oscar Serrano, ...         Mexico   \n",
              "2  Tedd Chan, Stella Chung, Henley Hii, Lawrence ...      Singapore   \n",
              "3  Elijah Wood, John C. Reilly, Jennifer Connelly...  United States   \n",
              "4  Jim Sturgess, Kevin Spacey, Kate Bosworth, Aar...  United States   \n",
              "\n",
              "          date_added  release_year rating   duration  \\\n",
              "0    August 14, 2020          2020  TV-MA  4 Seasons   \n",
              "1  December 23, 2016          2016  TV-MA     93 min   \n",
              "2  December 20, 2018          2011      R     78 min   \n",
              "3  November 16, 2017          2009  PG-13     80 min   \n",
              "4    January 1, 2020          2008  PG-13    123 min   \n",
              "\n",
              "                                           listed_in  \\\n",
              "0  International TV Shows, TV Dramas, TV Sci-Fi &...   \n",
              "1                       Dramas, International Movies   \n",
              "2                Horror Movies, International Movies   \n",
              "3  Action & Adventure, Independent Movies, Sci-Fi...   \n",
              "4                                             Dramas   \n",
              "\n",
              "                                         description  \n",
              "0  In a future where the elite inhabit an island ...  \n",
              "1  After a devastating earthquake hits Mexico Cit...  \n",
              "2  When an army recruit is found dead, his fellow...  \n",
              "3  In a postapocalyptic world, rag-doll robots hi...  \n",
              "4  A brilliant group of students become card-coun...  "
            ],
            "text/html": [
              "\n",
              "  <div id=\"df-dce1cb89-4aed-4426-9602-c1ca45cf3558\">\n",
              "    <div class=\"colab-df-container\">\n",
              "      <div>\n",
              "<style scoped>\n",
              "    .dataframe tbody tr th:only-of-type {\n",
              "        vertical-align: middle;\n",
              "    }\n",
              "\n",
              "    .dataframe tbody tr th {\n",
              "        vertical-align: top;\n",
              "    }\n",
              "\n",
              "    .dataframe thead th {\n",
              "        text-align: right;\n",
              "    }\n",
              "</style>\n",
              "<table border=\"1\" class=\"dataframe\">\n",
              "  <thead>\n",
              "    <tr style=\"text-align: right;\">\n",
              "      <th></th>\n",
              "      <th>show_id</th>\n",
              "      <th>type</th>\n",
              "      <th>title</th>\n",
              "      <th>director</th>\n",
              "      <th>cast</th>\n",
              "      <th>country</th>\n",
              "      <th>date_added</th>\n",
              "      <th>release_year</th>\n",
              "      <th>rating</th>\n",
              "      <th>duration</th>\n",
              "      <th>listed_in</th>\n",
              "      <th>description</th>\n",
              "    </tr>\n",
              "  </thead>\n",
              "  <tbody>\n",
              "    <tr>\n",
              "      <th>0</th>\n",
              "      <td>s1</td>\n",
              "      <td>TV Show</td>\n",
              "      <td>3%</td>\n",
              "      <td>NaN</td>\n",
              "      <td>João Miguel, Bianca Comparato, Michel Gomes, R...</td>\n",
              "      <td>Brazil</td>\n",
              "      <td>August 14, 2020</td>\n",
              "      <td>2020</td>\n",
              "      <td>TV-MA</td>\n",
              "      <td>4 Seasons</td>\n",
              "      <td>International TV Shows, TV Dramas, TV Sci-Fi &amp;...</td>\n",
              "      <td>In a future where the elite inhabit an island ...</td>\n",
              "    </tr>\n",
              "    <tr>\n",
              "      <th>1</th>\n",
              "      <td>s2</td>\n",
              "      <td>Movie</td>\n",
              "      <td>7:19</td>\n",
              "      <td>Jorge Michel Grau</td>\n",
              "      <td>Demián Bichir, Héctor Bonilla, Oscar Serrano, ...</td>\n",
              "      <td>Mexico</td>\n",
              "      <td>December 23, 2016</td>\n",
              "      <td>2016</td>\n",
              "      <td>TV-MA</td>\n",
              "      <td>93 min</td>\n",
              "      <td>Dramas, International Movies</td>\n",
              "      <td>After a devastating earthquake hits Mexico Cit...</td>\n",
              "    </tr>\n",
              "    <tr>\n",
              "      <th>2</th>\n",
              "      <td>s3</td>\n",
              "      <td>Movie</td>\n",
              "      <td>23:59</td>\n",
              "      <td>Gilbert Chan</td>\n",
              "      <td>Tedd Chan, Stella Chung, Henley Hii, Lawrence ...</td>\n",
              "      <td>Singapore</td>\n",
              "      <td>December 20, 2018</td>\n",
              "      <td>2011</td>\n",
              "      <td>R</td>\n",
              "      <td>78 min</td>\n",
              "      <td>Horror Movies, International Movies</td>\n",
              "      <td>When an army recruit is found dead, his fellow...</td>\n",
              "    </tr>\n",
              "    <tr>\n",
              "      <th>3</th>\n",
              "      <td>s4</td>\n",
              "      <td>Movie</td>\n",
              "      <td>9</td>\n",
              "      <td>Shane Acker</td>\n",
              "      <td>Elijah Wood, John C. Reilly, Jennifer Connelly...</td>\n",
              "      <td>United States</td>\n",
              "      <td>November 16, 2017</td>\n",
              "      <td>2009</td>\n",
              "      <td>PG-13</td>\n",
              "      <td>80 min</td>\n",
              "      <td>Action &amp; Adventure, Independent Movies, Sci-Fi...</td>\n",
              "      <td>In a postapocalyptic world, rag-doll robots hi...</td>\n",
              "    </tr>\n",
              "    <tr>\n",
              "      <th>4</th>\n",
              "      <td>s5</td>\n",
              "      <td>Movie</td>\n",
              "      <td>21</td>\n",
              "      <td>Robert Luketic</td>\n",
              "      <td>Jim Sturgess, Kevin Spacey, Kate Bosworth, Aar...</td>\n",
              "      <td>United States</td>\n",
              "      <td>January 1, 2020</td>\n",
              "      <td>2008</td>\n",
              "      <td>PG-13</td>\n",
              "      <td>123 min</td>\n",
              "      <td>Dramas</td>\n",
              "      <td>A brilliant group of students become card-coun...</td>\n",
              "    </tr>\n",
              "  </tbody>\n",
              "</table>\n",
              "</div>\n",
              "      <button class=\"colab-df-convert\" onclick=\"convertToInteractive('df-dce1cb89-4aed-4426-9602-c1ca45cf3558')\"\n",
              "              title=\"Convert this dataframe to an interactive table.\"\n",
              "              style=\"display:none;\">\n",
              "        \n",
              "  <svg xmlns=\"http://www.w3.org/2000/svg\" height=\"24px\"viewBox=\"0 0 24 24\"\n",
              "       width=\"24px\">\n",
              "    <path d=\"M0 0h24v24H0V0z\" fill=\"none\"/>\n",
              "    <path d=\"M18.56 5.44l.94 2.06.94-2.06 2.06-.94-2.06-.94-.94-2.06-.94 2.06-2.06.94zm-11 1L8.5 8.5l.94-2.06 2.06-.94-2.06-.94L8.5 2.5l-.94 2.06-2.06.94zm10 10l.94 2.06.94-2.06 2.06-.94-2.06-.94-.94-2.06-.94 2.06-2.06.94z\"/><path d=\"M17.41 7.96l-1.37-1.37c-.4-.4-.92-.59-1.43-.59-.52 0-1.04.2-1.43.59L10.3 9.45l-7.72 7.72c-.78.78-.78 2.05 0 2.83L4 21.41c.39.39.9.59 1.41.59.51 0 1.02-.2 1.41-.59l7.78-7.78 2.81-2.81c.8-.78.8-2.07 0-2.86zM5.41 20L4 18.59l7.72-7.72 1.47 1.35L5.41 20z\"/>\n",
              "  </svg>\n",
              "      </button>\n",
              "      \n",
              "  <style>\n",
              "    .colab-df-container {\n",
              "      display:flex;\n",
              "      flex-wrap:wrap;\n",
              "      gap: 12px;\n",
              "    }\n",
              "\n",
              "    .colab-df-convert {\n",
              "      background-color: #E8F0FE;\n",
              "      border: none;\n",
              "      border-radius: 50%;\n",
              "      cursor: pointer;\n",
              "      display: none;\n",
              "      fill: #1967D2;\n",
              "      height: 32px;\n",
              "      padding: 0 0 0 0;\n",
              "      width: 32px;\n",
              "    }\n",
              "\n",
              "    .colab-df-convert:hover {\n",
              "      background-color: #E2EBFA;\n",
              "      box-shadow: 0px 1px 2px rgba(60, 64, 67, 0.3), 0px 1px 3px 1px rgba(60, 64, 67, 0.15);\n",
              "      fill: #174EA6;\n",
              "    }\n",
              "\n",
              "    [theme=dark] .colab-df-convert {\n",
              "      background-color: #3B4455;\n",
              "      fill: #D2E3FC;\n",
              "    }\n",
              "\n",
              "    [theme=dark] .colab-df-convert:hover {\n",
              "      background-color: #434B5C;\n",
              "      box-shadow: 0px 1px 3px 1px rgba(0, 0, 0, 0.15);\n",
              "      filter: drop-shadow(0px 1px 2px rgba(0, 0, 0, 0.3));\n",
              "      fill: #FFFFFF;\n",
              "    }\n",
              "  </style>\n",
              "\n",
              "      <script>\n",
              "        const buttonEl =\n",
              "          document.querySelector('#df-dce1cb89-4aed-4426-9602-c1ca45cf3558 button.colab-df-convert');\n",
              "        buttonEl.style.display =\n",
              "          google.colab.kernel.accessAllowed ? 'block' : 'none';\n",
              "\n",
              "        async function convertToInteractive(key) {\n",
              "          const element = document.querySelector('#df-dce1cb89-4aed-4426-9602-c1ca45cf3558');\n",
              "          const dataTable =\n",
              "            await google.colab.kernel.invokeFunction('convertToInteractive',\n",
              "                                                     [key], {});\n",
              "          if (!dataTable) return;\n",
              "\n",
              "          const docLinkHtml = 'Like what you see? Visit the ' +\n",
              "            '<a target=\"_blank\" href=https://colab.research.google.com/notebooks/data_table.ipynb>data table notebook</a>'\n",
              "            + ' to learn more about interactive tables.';\n",
              "          element.innerHTML = '';\n",
              "          dataTable['output_type'] = 'display_data';\n",
              "          await google.colab.output.renderOutput(dataTable, element);\n",
              "          const docLink = document.createElement('div');\n",
              "          docLink.innerHTML = docLinkHtml;\n",
              "          element.appendChild(docLink);\n",
              "        }\n",
              "      </script>\n",
              "    </div>\n",
              "  </div>\n",
              "  "
            ]
          },
          "metadata": {},
          "execution_count": 5
        }
      ]
    },
    {
      "cell_type": "code",
      "source": [
        "df.columns"
      ],
      "metadata": {
        "colab": {
          "base_uri": "https://localhost:8080/"
        },
        "id": "c74s_c6bsoxR",
        "outputId": "fdd09107-0c92-4bd9-b474-52c9db1897b8"
      },
      "execution_count": null,
      "outputs": [
        {
          "output_type": "execute_result",
          "data": {
            "text/plain": [
              "Index(['show_id', 'type', 'title', 'director', 'cast', 'country', 'date_added',\n",
              "       'release_year', 'rating', 'duration', 'listed_in', 'description'],\n",
              "      dtype='object')"
            ]
          },
          "metadata": {},
          "execution_count": 6
        }
      ]
    },
    {
      "cell_type": "markdown",
      "source": [
        "## Посмотрим на пропуски в датасете"
      ],
      "metadata": {
        "id": "2KCKXO4UPVCx"
      }
    },
    {
      "cell_type": "code",
      "source": [
        "df.isna().any()"
      ],
      "metadata": {
        "colab": {
          "base_uri": "https://localhost:8080/"
        },
        "id": "YRvcJwd0s-mu",
        "outputId": "766f47c3-1770-488a-c086-4c2774b60716"
      },
      "execution_count": null,
      "outputs": [
        {
          "output_type": "execute_result",
          "data": {
            "text/plain": [
              "show_id         False\n",
              "type            False\n",
              "title           False\n",
              "director         True\n",
              "cast             True\n",
              "country          True\n",
              "date_added       True\n",
              "release_year    False\n",
              "rating           True\n",
              "duration        False\n",
              "listed_in       False\n",
              "description     False\n",
              "dtype: bool"
            ]
          },
          "metadata": {},
          "execution_count": 7
        }
      ]
    },
    {
      "cell_type": "markdown",
      "source": [
        "Пропуски есть. Больше всего их в колонке director. Однако это не помешает нашему дальнейшему анализу."
      ],
      "metadata": {
        "id": "2f5RJH1mvRvV"
      }
    },
    {
      "cell_type": "markdown",
      "source": [
        "Поделим наш датасет на фильмы и сериалы, посмотрим чего больше фильмов или сериалов."
      ],
      "metadata": {
        "id": "htHf1SgUu1iv"
      }
    },
    {
      "cell_type": "code",
      "source": [
        "movies = df[df['type'] == 'Movie']\n",
        "tvshows = df[df['type'] == 'TV Show']"
      ],
      "metadata": {
        "id": "rN2Q2qEKtIjL"
      },
      "execution_count": null,
      "outputs": []
    },
    {
      "cell_type": "code",
      "source": [
        "ax = sns.countplot(x = 'type', data = df)"
      ],
      "metadata": {
        "colab": {
          "base_uri": "https://localhost:8080/",
          "height": 449
        },
        "id": "RVhIcNl4t7-7",
        "outputId": "80b53a9d-6d77-49e4-836b-4979e6ae9634"
      },
      "execution_count": null,
      "outputs": [
        {
          "output_type": "display_data",
          "data": {
            "text/plain": [
              "<Figure size 640x480 with 1 Axes>"
            ],
            "image/png": "[encoded data removed]"
          },
          "metadata": {}
        }
      ]
    },
    {
      "cell_type": "markdown",
      "source": [
        "## Какой месяц наиболее привлекательный для релиза контента?\n",
        "Обратимся к колонке date_added"
      ],
      "metadata": {
        "id": "QRzf3fTlzl-z"
      }
    },
    {
      "cell_type": "code",
      "source": [
        "#у datе_added были пропуски. удалим их и перезапишем эти значения в новую переменную\n",
        "df_date=df[['date_added']].dropna()\n",
        "df_date"
      ],
      "metadata": {
        "colab": {
          "base_uri": "https://localhost:8080/",
          "height": 424
        },
        "id": "YfN_YVQOzYpO",
        "outputId": "e787d56e-9546-44bb-fe96-b59fa1e75223"
      },
      "execution_count": null,
      "outputs": [
        {
          "output_type": "execute_result",
          "data": {
            "text/plain": [
              "              date_added\n",
              "0        August 14, 2020\n",
              "1      December 23, 2016\n",
              "2      December 20, 2018\n",
              "3      November 16, 2017\n",
              "4        January 1, 2020\n",
              "...                  ...\n",
              "7782    October 19, 2020\n",
              "7783       March 2, 2019\n",
              "7784  September 25, 2020\n",
              "7785    October 31, 2020\n",
              "7786       March 1, 2020\n",
              "\n",
              "[7777 rows x 1 columns]"
            ],
            "text/html": [
              "\n",
              "  <div id=\"df-ce6f30de-9a88-4cd6-9134-f9e2233463dd\">\n",
              "    <div class=\"colab-df-container\">\n",
              "      <div>\n",
              "<style scoped>\n",
              "    .dataframe tbody tr th:only-of-type {\n",
              "        vertical-align: middle;\n",
              "    }\n",
              "\n",
              "    .dataframe tbody tr th {\n",
              "        vertical-align: top;\n",
              "    }\n",
              "\n",
              "    .dataframe thead th {\n",
              "        text-align: right;\n",
              "    }\n",
              "</style>\n",
              "<table border=\"1\" class=\"dataframe\">\n",
              "  <thead>\n",
              "    <tr style=\"text-align: right;\">\n",
              "      <th></th>\n",
              "      <th>date_added</th>\n",
              "    </tr>\n",
              "  </thead>\n",
              "  <tbody>\n",
              "    <tr>\n",
              "      <th>0</th>\n",
              "      <td>August 14, 2020</td>\n",
              "    </tr>\n",
              "    <tr>\n",
              "      <th>1</th>\n",
              "      <td>December 23, 2016</td>\n",
              "    </tr>\n",
              "    <tr>\n",
              "      <th>2</th>\n",
              "      <td>December 20, 2018</td>\n",
              "    </tr>\n",
              "    <tr>\n",
              "      <th>3</th>\n",
              "      <td>November 16, 2017</td>\n",
              "    </tr>\n",
              "    <tr>\n",
              "      <th>4</th>\n",
              "      <td>January 1, 2020</td>\n",
              "    </tr>\n",
              "    <tr>\n",
              "      <th>...</th>\n",
              "      <td>...</td>\n",
              "    </tr>\n",
              "    <tr>\n",
              "      <th>7782</th>\n",
              "      <td>October 19, 2020</td>\n",
              "    </tr>\n",
              "    <tr>\n",
              "      <th>7783</th>\n",
              "      <td>March 2, 2019</td>\n",
              "    </tr>\n",
              "    <tr>\n",
              "      <th>7784</th>\n",
              "      <td>September 25, 2020</td>\n",
              "    </tr>\n",
              "    <tr>\n",
              "      <th>7785</th>\n",
              "      <td>October 31, 2020</td>\n",
              "    </tr>\n",
              "    <tr>\n",
              "      <th>7786</th>\n",
              "      <td>March 1, 2020</td>\n",
              "    </tr>\n",
              "  </tbody>\n",
              "</table>\n",
              "<p>7777 rows × 1 columns</p>\n",
              "</div>\n",
              "      <button class=\"colab-df-convert\" onclick=\"convertToInteractive('df-ce6f30de-9a88-4cd6-9134-f9e2233463dd')\"\n",
              "              title=\"Convert this dataframe to an interactive table.\"\n",
              "              style=\"display:none;\">\n",
              "        \n",
              "  <svg xmlns=\"http://www.w3.org/2000/svg\" height=\"24px\"viewBox=\"0 0 24 24\"\n",
              "       width=\"24px\">\n",
              "    <path d=\"M0 0h24v24H0V0z\" fill=\"none\"/>\n",
              "    <path d=\"M18.56 5.44l.94 2.06.94-2.06 2.06-.94-2.06-.94-.94-2.06-.94 2.06-2.06.94zm-11 1L8.5 8.5l.94-2.06 2.06-.94-2.06-.94L8.5 2.5l-.94 2.06-2.06.94zm10 10l.94 2.06.94-2.06 2.06-.94-2.06-.94-.94-2.06-.94 2.06-2.06.94z\"/><path d=\"M17.41 7.96l-1.37-1.37c-.4-.4-.92-.59-1.43-.59-.52 0-1.04.2-1.43.59L10.3 9.45l-7.72 7.72c-.78.78-.78 2.05 0 2.83L4 21.41c.39.39.9.59 1.41.59.51 0 1.02-.2 1.41-.59l7.78-7.78 2.81-2.81c.8-.78.8-2.07 0-2.86zM5.41 20L4 18.59l7.72-7.72 1.47 1.35L5.41 20z\"/>\n",
              "  </svg>\n",
              "      </button>\n",
              "      \n",
              "  <style>\n",
              "    .colab-df-container {\n",
              "      display:flex;\n",
              "      flex-wrap:wrap;\n",
              "      gap: 12px;\n",
              "    }\n",
              "\n",
              "    .colab-df-convert {\n",
              "      background-color: #E8F0FE;\n",
              "      border: none;\n",
              "      border-radius: 50%;\n",
              "      cursor: pointer;\n",
              "      display: none;\n",
              "      fill: #1967D2;\n",
              "      height: 32px;\n",
              "      padding: 0 0 0 0;\n",
              "      width: 32px;\n",
              "    }\n",
              "\n",
              "    .colab-df-convert:hover {\n",
              "      background-color: #E2EBFA;\n",
              "      box-shadow: 0px 1px 2px rgba(60, 64, 67, 0.3), 0px 1px 3px 1px rgba(60, 64, 67, 0.15);\n",
              "      fill: #174EA6;\n",
              "    }\n",
              "\n",
              "    [theme=dark] .colab-df-convert {\n",
              "      background-color: #3B4455;\n",
              "      fill: #D2E3FC;\n",
              "    }\n",
              "\n",
              "    [theme=dark] .colab-df-convert:hover {\n",
              "      background-color: #434B5C;\n",
              "      box-shadow: 0px 1px 3px 1px rgba(0, 0, 0, 0.15);\n",
              "      filter: drop-shadow(0px 1px 2px rgba(0, 0, 0, 0.3));\n",
              "      fill: #FFFFFF;\n",
              "    }\n",
              "  </style>\n",
              "\n",
              "      <script>\n",
              "        const buttonEl =\n",
              "          document.querySelector('#df-ce6f30de-9a88-4cd6-9134-f9e2233463dd button.colab-df-convert');\n",
              "        buttonEl.style.display =\n",
              "          google.colab.kernel.accessAllowed ? 'block' : 'none';\n",
              "\n",
              "        async function convertToInteractive(key) {\n",
              "          const element = document.querySelector('#df-ce6f30de-9a88-4cd6-9134-f9e2233463dd');\n",
              "          const dataTable =\n",
              "            await google.colab.kernel.invokeFunction('convertToInteractive',\n",
              "                                                     [key], {});\n",
              "          if (!dataTable) return;\n",
              "\n",
              "          const docLinkHtml = 'Like what you see? Visit the ' +\n",
              "            '<a target=\"_blank\" href=https://colab.research.google.com/notebooks/data_table.ipynb>data table notebook</a>'\n",
              "            + ' to learn more about interactive tables.';\n",
              "          element.innerHTML = '';\n",
              "          dataTable['output_type'] = 'display_data';\n",
              "          await google.colab.output.renderOutput(dataTable, element);\n",
              "          const docLink = document.createElement('div');\n",
              "          docLink.innerHTML = docLinkHtml;\n",
              "          element.appendChild(docLink);\n",
              "        }\n",
              "      </script>\n",
              "    </div>\n",
              "  </div>\n",
              "  "
            ]
          },
          "metadata": {},
          "execution_count": 12
        }
      ]
    },
    {
      "cell_type": "code",
      "source": [
        "df_date['year'] = df_date['date_added'].apply(lambda x: x.split(', ')[-1])\n",
        "df_date['month'] = df_date['date_added'].apply(lambda x: x.strip().split(' ')[0]) #разобьем колонку на месяц и год"
      ],
      "metadata": {
        "id": "OzBtIdwM3kOg"
      },
      "execution_count": null,
      "outputs": []
    },
    {
      "cell_type": "code",
      "source": [
        "#преобразуем df_date в сводную таблицуб заполним \"перерывы\" и определим порядок отображение месяцев\n",
        "months_order = ['December', 'November', 'October', 'September', 'August', 'July', 'June', 'May', 'April', 'March', 'February', 'January']\n",
        "pt = df_date.groupby('year')['month'].value_counts().unstack().fillna(0)[months_order].T\n",
        "pt"
      ],
      "metadata": {
        "colab": {
          "base_uri": "https://localhost:8080/",
          "height": 457
        },
        "id": "C7saKLOo8Jao",
        "outputId": "4baca9db-3265-4695-e840-b6895a4add14"
      },
      "execution_count": null,
      "outputs": [
        {
          "output_type": "execute_result",
          "data": {
            "text/plain": [
              "year       2008  2009  2010  2011  2012  2013  2014  2015  2016   2017   2018  \\\n",
              "month                                                                           \n",
              "December    0.0   0.0   0.0   0.0   1.0   2.0   6.0  23.0  96.0  118.0  190.0   \n",
              "November    0.0   1.0   1.0   0.0   1.0   2.0   5.0   4.0  46.0   88.0  160.0   \n",
              "October     0.0   0.0   0.0  11.0   0.0   3.0   4.0  15.0  52.0  131.0  192.0   \n",
              "September   0.0   0.0   0.0   1.0   0.0   2.0   1.0   7.0  48.0  119.0  127.0   \n",
              "August      0.0   0.0   0.0   0.0   0.0   1.0   1.0   2.0  41.0  115.0  169.0   \n",
              "July        0.0   0.0   0.0   0.0   0.0   0.0   1.0   8.0  29.0   80.0  157.0   \n",
              "June        0.0   0.0   0.0   0.0   0.0   0.0   1.0   7.0  19.0   95.0   78.0   \n",
              "May         0.0   1.0   0.0   1.0   0.0   0.0   0.0   7.0  13.0   88.0  101.0   \n",
              "April       0.0   0.0   0.0   0.0   0.0   0.0   2.0   5.0  22.0   95.0  118.0   \n",
              "March       0.0   0.0   0.0   0.0   0.0   1.0   0.0   5.0  17.0  140.0  175.0   \n",
              "February    1.0   0.0   0.0   0.0   1.0   0.0   2.0   4.0  16.0   84.0   88.0   \n",
              "January     1.0   0.0   0.0   0.0   0.0   0.0   2.0   1.0  44.0   72.0  130.0   \n",
              "\n",
              "year        2019   2020   2021  \n",
              "month                           \n",
              "December   222.0  175.0    0.0  \n",
              "November   272.0  158.0    0.0  \n",
              "October    204.0  173.0    0.0  \n",
              "September  136.0  178.0    0.0  \n",
              "August     145.0  144.0    0.0  \n",
              "July       169.0  156.0    0.0  \n",
              "June       175.0  167.0    0.0  \n",
              "May        159.0  173.0    0.0  \n",
              "April      171.0  188.0    0.0  \n",
              "March      179.0  152.0    0.0  \n",
              "February   159.0  117.0    0.0  \n",
              "January    162.0  228.0  117.0  "
            ],
            "text/html": [
              "\n",
              "  <div id=\"df-d21896b9-9c6c-4e6b-8ead-01ad03b0f721\">\n",
              "    <div class=\"colab-df-container\">\n",
              "      <div>\n",
              "<style scoped>\n",
              "    .dataframe tbody tr th:only-of-type {\n",
              "        vertical-align: middle;\n",
              "    }\n",
              "\n",
              "    .dataframe tbody tr th {\n",
              "        vertical-align: top;\n",
              "    }\n",
              "\n",
              "    .dataframe thead th {\n",
              "        text-align: right;\n",
              "    }\n",
              "</style>\n",
              "<table border=\"1\" class=\"dataframe\">\n",
              "  <thead>\n",
              "    <tr style=\"text-align: right;\">\n",
              "      <th>year</th>\n",
              "      <th>2008</th>\n",
              "      <th>2009</th>\n",
              "      <th>2010</th>\n",
              "      <th>2011</th>\n",
              "      <th>2012</th>\n",
              "      <th>2013</th>\n",
              "      <th>2014</th>\n",
              "      <th>2015</th>\n",
              "      <th>2016</th>\n",
              "      <th>2017</th>\n",
              "      <th>2018</th>\n",
              "      <th>2019</th>\n",
              "      <th>2020</th>\n",
              "      <th>2021</th>\n",
              "    </tr>\n",
              "    <tr>\n",
              "      <th>month</th>\n",
              "      <th></th>\n",
              "      <th></th>\n",
              "      <th></th>\n",
              "      <th></th>\n",
              "      <th></th>\n",
              "      <th></th>\n",
              "      <th></th>\n",
              "      <th></th>\n",
              "      <th></th>\n",
              "      <th></th>\n",
              "      <th></th>\n",
              "      <th></th>\n",
              "      <th></th>\n",
              "      <th></th>\n",
              "    </tr>\n",
              "  </thead>\n",
              "  <tbody>\n",
              "    <tr>\n",
              "      <th>December</th>\n",
              "      <td>0.0</td>\n",
              "      <td>0.0</td>\n",
              "      <td>0.0</td>\n",
              "      <td>0.0</td>\n",
              "      <td>1.0</td>\n",
              "      <td>2.0</td>\n",
              "      <td>6.0</td>\n",
              "      <td>23.0</td>\n",
              "      <td>96.0</td>\n",
              "      <td>118.0</td>\n",
              "      <td>190.0</td>\n",
              "      <td>222.0</td>\n",
              "      <td>175.0</td>\n",
              "      <td>0.0</td>\n",
              "    </tr>\n",
              "    <tr>\n",
              "      <th>November</th>\n",
              "      <td>0.0</td>\n",
              "      <td>1.0</td>\n",
              "      <td>1.0</td>\n",
              "      <td>0.0</td>\n",
              "      <td>1.0</td>\n",
              "      <td>2.0</td>\n",
              "      <td>5.0</td>\n",
              "      <td>4.0</td>\n",
              "      <td>46.0</td>\n",
              "      <td>88.0</td>\n",
              "      <td>160.0</td>\n",
              "      <td>272.0</td>\n",
              "      <td>158.0</td>\n",
              "      <td>0.0</td>\n",
              "    </tr>\n",
              "    <tr>\n",
              "      <th>October</th>\n",
              "      <td>0.0</td>\n",
              "      <td>0.0</td>\n",
              "      <td>0.0</td>\n",
              "      <td>11.0</td>\n",
              "      <td>0.0</td>\n",
              "      <td>3.0</td>\n",
              "      <td>4.0</td>\n",
              "      <td>15.0</td>\n",
              "      <td>52.0</td>\n",
              "      <td>131.0</td>\n",
              "      <td>192.0</td>\n",
              "      <td>204.0</td>\n",
              "      <td>173.0</td>\n",
              "      <td>0.0</td>\n",
              "    </tr>\n",
              "    <tr>\n",
              "      <th>September</th>\n",
              "      <td>0.0</td>\n",
              "      <td>0.0</td>\n",
              "      <td>0.0</td>\n",
              "      <td>1.0</td>\n",
              "      <td>0.0</td>\n",
              "      <td>2.0</td>\n",
              "      <td>1.0</td>\n",
              "      <td>7.0</td>\n",
              "      <td>48.0</td>\n",
              "      <td>119.0</td>\n",
              "      <td>127.0</td>\n",
              "      <td>136.0</td>\n",
              "      <td>178.0</td>\n",
              "      <td>0.0</td>\n",
              "    </tr>\n",
              "    <tr>\n",
              "      <th>August</th>\n",
              "      <td>0.0</td>\n",
              "      <td>0.0</td>\n",
              "      <td>0.0</td>\n",
              "      <td>0.0</td>\n",
              "      <td>0.0</td>\n",
              "      <td>1.0</td>\n",
              "      <td>1.0</td>\n",
              "      <td>2.0</td>\n",
              "      <td>41.0</td>\n",
              "      <td>115.0</td>\n",
              "      <td>169.0</td>\n",
              "      <td>145.0</td>\n",
              "      <td>144.0</td>\n",
              "      <td>0.0</td>\n",
              "    </tr>\n",
              "    <tr>\n",
              "      <th>July</th>\n",
              "      <td>0.0</td>\n",
              "      <td>0.0</td>\n",
              "      <td>0.0</td>\n",
              "      <td>0.0</td>\n",
              "      <td>0.0</td>\n",
              "      <td>0.0</td>\n",
              "      <td>1.0</td>\n",
              "      <td>8.0</td>\n",
              "      <td>29.0</td>\n",
              "      <td>80.0</td>\n",
              "      <td>157.0</td>\n",
              "      <td>169.0</td>\n",
              "      <td>156.0</td>\n",
              "      <td>0.0</td>\n",
              "    </tr>\n",
              "    <tr>\n",
              "      <th>June</th>\n",
              "      <td>0.0</td>\n",
              "      <td>0.0</td>\n",
              "      <td>0.0</td>\n",
              "      <td>0.0</td>\n",
              "      <td>0.0</td>\n",
              "      <td>0.0</td>\n",
              "      <td>1.0</td>\n",
              "      <td>7.0</td>\n",
              "      <td>19.0</td>\n",
              "      <td>95.0</td>\n",
              "      <td>78.0</td>\n",
              "      <td>175.0</td>\n",
              "      <td>167.0</td>\n",
              "      <td>0.0</td>\n",
              "    </tr>\n",
              "    <tr>\n",
              "      <th>May</th>\n",
              "      <td>0.0</td>\n",
              "      <td>1.0</td>\n",
              "      <td>0.0</td>\n",
              "      <td>1.0</td>\n",
              "      <td>0.0</td>\n",
              "      <td>0.0</td>\n",
              "      <td>0.0</td>\n",
              "      <td>7.0</td>\n",
              "      <td>13.0</td>\n",
              "      <td>88.0</td>\n",
              "      <td>101.0</td>\n",
              "      <td>159.0</td>\n",
              "      <td>173.0</td>\n",
              "      <td>0.0</td>\n",
              "    </tr>\n",
              "    <tr>\n",
              "      <th>April</th>\n",
              "      <td>0.0</td>\n",
              "      <td>0.0</td>\n",
              "      <td>0.0</td>\n",
              "      <td>0.0</td>\n",
              "      <td>0.0</td>\n",
              "      <td>0.0</td>\n",
              "      <td>2.0</td>\n",
              "      <td>5.0</td>\n",
              "      <td>22.0</td>\n",
              "      <td>95.0</td>\n",
              "      <td>118.0</td>\n",
              "      <td>171.0</td>\n",
              "      <td>188.0</td>\n",
              "      <td>0.0</td>\n",
              "    </tr>\n",
              "    <tr>\n",
              "      <th>March</th>\n",
              "      <td>0.0</td>\n",
              "      <td>0.0</td>\n",
              "      <td>0.0</td>\n",
              "      <td>0.0</td>\n",
              "      <td>0.0</td>\n",
              "      <td>1.0</td>\n",
              "      <td>0.0</td>\n",
              "      <td>5.0</td>\n",
              "      <td>17.0</td>\n",
              "      <td>140.0</td>\n",
              "      <td>175.0</td>\n",
              "      <td>179.0</td>\n",
              "      <td>152.0</td>\n",
              "      <td>0.0</td>\n",
              "    </tr>\n",
              "    <tr>\n",
              "      <th>February</th>\n",
              "      <td>1.0</td>\n",
              "      <td>0.0</td>\n",
              "      <td>0.0</td>\n",
              "      <td>0.0</td>\n",
              "      <td>1.0</td>\n",
              "      <td>0.0</td>\n",
              "      <td>2.0</td>\n",
              "      <td>4.0</td>\n",
              "      <td>16.0</td>\n",
              "      <td>84.0</td>\n",
              "      <td>88.0</td>\n",
              "      <td>159.0</td>\n",
              "      <td>117.0</td>\n",
              "      <td>0.0</td>\n",
              "    </tr>\n",
              "    <tr>\n",
              "      <th>January</th>\n",
              "      <td>1.0</td>\n",
              "      <td>0.0</td>\n",
              "      <td>0.0</td>\n",
              "      <td>0.0</td>\n",
              "      <td>0.0</td>\n",
              "      <td>0.0</td>\n",
              "      <td>2.0</td>\n",
              "      <td>1.0</td>\n",
              "      <td>44.0</td>\n",
              "      <td>72.0</td>\n",
              "      <td>130.0</td>\n",
              "      <td>162.0</td>\n",
              "      <td>228.0</td>\n",
              "      <td>117.0</td>\n",
              "    </tr>\n",
              "  </tbody>\n",
              "</table>\n",
              "</div>\n",
              "      <button class=\"colab-df-convert\" onclick=\"convertToInteractive('df-d21896b9-9c6c-4e6b-8ead-01ad03b0f721')\"\n",
              "              title=\"Convert this dataframe to an interactive table.\"\n",
              "              style=\"display:none;\">\n",
              "        \n",
              "  <svg xmlns=\"http://www.w3.org/2000/svg\" height=\"24px\"viewBox=\"0 0 24 24\"\n",
              "       width=\"24px\">\n",
              "    <path d=\"M0 0h24v24H0V0z\" fill=\"none\"/>\n",
              "    <path d=\"M18.56 5.44l.94 2.06.94-2.06 2.06-.94-2.06-.94-.94-2.06-.94 2.06-2.06.94zm-11 1L8.5 8.5l.94-2.06 2.06-.94-2.06-.94L8.5 2.5l-.94 2.06-2.06.94zm10 10l.94 2.06.94-2.06 2.06-.94-2.06-.94-.94-2.06-.94 2.06-2.06.94z\"/><path d=\"M17.41 7.96l-1.37-1.37c-.4-.4-.92-.59-1.43-.59-.52 0-1.04.2-1.43.59L10.3 9.45l-7.72 7.72c-.78.78-.78 2.05 0 2.83L4 21.41c.39.39.9.59 1.41.59.51 0 1.02-.2 1.41-.59l7.78-7.78 2.81-2.81c.8-.78.8-2.07 0-2.86zM5.41 20L4 18.59l7.72-7.72 1.47 1.35L5.41 20z\"/>\n",
              "  </svg>\n",
              "      </button>\n",
              "      \n",
              "  <style>\n",
              "    .colab-df-container {\n",
              "      display:flex;\n",
              "      flex-wrap:wrap;\n",
              "      gap: 12px;\n",
              "    }\n",
              "\n",
              "    .colab-df-convert {\n",
              "      background-color: #E8F0FE;\n",
              "      border: none;\n",
              "      border-radius: 50%;\n",
              "      cursor: pointer;\n",
              "      display: none;\n",
              "      fill: #1967D2;\n",
              "      height: 32px;\n",
              "      padding: 0 0 0 0;\n",
              "      width: 32px;\n",
              "    }\n",
              "\n",
              "    .colab-df-convert:hover {\n",
              "      background-color: #E2EBFA;\n",
              "      box-shadow: 0px 1px 2px rgba(60, 64, 67, 0.3), 0px 1px 3px 1px rgba(60, 64, 67, 0.15);\n",
              "      fill: #174EA6;\n",
              "    }\n",
              "\n",
              "    [theme=dark] .colab-df-convert {\n",
              "      background-color: #3B4455;\n",
              "      fill: #D2E3FC;\n",
              "    }\n",
              "\n",
              "    [theme=dark] .colab-df-convert:hover {\n",
              "      background-color: #434B5C;\n",
              "      box-shadow: 0px 1px 3px 1px rgba(0, 0, 0, 0.15);\n",
              "      filter: drop-shadow(0px 1px 2px rgba(0, 0, 0, 0.3));\n",
              "      fill: #FFFFFF;\n",
              "    }\n",
              "  </style>\n",
              "\n",
              "      <script>\n",
              "        const buttonEl =\n",
              "          document.querySelector('#df-d21896b9-9c6c-4e6b-8ead-01ad03b0f721 button.colab-df-convert');\n",
              "        buttonEl.style.display =\n",
              "          google.colab.kernel.accessAllowed ? 'block' : 'none';\n",
              "\n",
              "        async function convertToInteractive(key) {\n",
              "          const element = document.querySelector('#df-d21896b9-9c6c-4e6b-8ead-01ad03b0f721');\n",
              "          const dataTable =\n",
              "            await google.colab.kernel.invokeFunction('convertToInteractive',\n",
              "                                                     [key], {});\n",
              "          if (!dataTable) return;\n",
              "\n",
              "          const docLinkHtml = 'Like what you see? Visit the ' +\n",
              "            '<a target=\"_blank\" href=https://colab.research.google.com/notebooks/data_table.ipynb>data table notebook</a>'\n",
              "            + ' to learn more about interactive tables.';\n",
              "          element.innerHTML = '';\n",
              "          dataTable['output_type'] = 'display_data';\n",
              "          await google.colab.output.renderOutput(dataTable, element);\n",
              "          const docLink = document.createElement('div');\n",
              "          docLink.innerHTML = docLinkHtml;\n",
              "          element.appendChild(docLink);\n",
              "        }\n",
              "      </script>\n",
              "    </div>\n",
              "  </div>\n",
              "  "
            ]
          },
          "metadata": {},
          "execution_count": 14
        }
      ]
    },
    {
      "cell_type": "code",
      "source": [
        "plt.figure(figsize=(10, 8), dpi=100)\n",
        "plt.pcolor(pt, cmap='Greens', edgecolors='white', linewidths=1)\n",
        "plt.xticks(np.arange(0.5, len(pt.columns), 1), pt.columns, fontsize=8)\n",
        "plt.yticks(np.arange(0.5, len(pt.index), 1), pt.index, fontsize=8)\n",
        "\n",
        "plt.title('Netflix Contents Update', fontsize=12, fontweight='bold')\n",
        "cbar = plt.colorbar()\n",
        "\n",
        "cbar.ax.tick_params(labelsize=9)\n",
        "cbar.ax.minorticks_on()\n",
        "plt.show()"
      ],
      "metadata": {
        "colab": {
          "base_uri": "https://localhost:8080/",
          "height": 695
        },
        "id": "zN6czidr95xK",
        "outputId": "da20e000-0260-405c-9a9c-4aa501f797c3"
      },
      "execution_count": null,
      "outputs": [
        {
          "output_type": "display_data",
          "data": {
            "text/plain": [
              "<Figure size 1000x800 with 2 Axes>"
            ],
            "image/png": "[encoded data removed]"
          },
          "metadata": {}
        }
      ]
    },
    {
      "cell_type": "markdown",
      "source": [
        "Здесь мы можем увидеть наиболее свободные периоды для релиза собственного контента"
      ],
      "metadata": {
        "id": "2XWajTJ5aG9P"
      }
    },
    {
      "cell_type": "markdown",
      "source": [
        "# Перейдем к анализу фильмов\n",
        "Посмотрим на рейтинги и даты их создания"
      ],
      "metadata": {
        "id": "HUI25JOQaiMy"
      }
    },
    {
      "cell_type": "code",
      "source": [
        "plt.figure(figsize = (10, 7))\n",
        "ax = sns.countplot(x=df['rating'], data = movies, order = df['rating'].value_counts().index[:15])"
      ],
      "metadata": {
        "colab": {
          "base_uri": "https://localhost:8080/",
          "height": 623
        },
        "id": "SWI-2WtuEmez",
        "outputId": "39c739fc-c139-498f-f175-14ceab93e33d"
      },
      "execution_count": null,
      "outputs": [
        {
          "output_type": "display_data",
          "data": {
            "text/plain": [
              "<Figure size 1000x700 with 1 Axes>"
            ],
            "image/png": "[encoded data removed]"
          },
          "metadata": {}
        }
      ]
    },
    {
      "cell_type": "markdown",
      "source": [
        "Здесь мы видим три самых популярных рейтинга фильмов"
      ],
      "metadata": {
        "id": "oXJfb8AFauC9"
      }
    },
    {
      "cell_type": "code",
      "source": [
        "plt.figure (figsize = (10, 7))\n",
        "ax = sns.countplot(y = 'release_year', data = movies, order = df['release_year'].value_counts().index[:15])\n",
        "ax.set_ylabel('release date')"
      ],
      "metadata": {
        "colab": {
          "base_uri": "https://localhost:8080/",
          "height": 636
        },
        "id": "_dPkOKaiU7pU",
        "outputId": "0b6854d1-ff33-414d-d074-a6a12e3c3d89"
      },
      "execution_count": null,
      "outputs": [
        {
          "output_type": "execute_result",
          "data": {
            "text/plain": [
              "Text(0, 0.5, 'release date')"
            ]
          },
          "metadata": {},
          "execution_count": 17
        },
        {
          "output_type": "display_data",
          "data": {
            "text/plain": [
              "<Figure size 1000x700 with 1 Axes>"
            ],
            "image/png": "[encoded data removed]"
          },
          "metadata": {}
        }
      ]
    },
    {
      "cell_type": "markdown",
      "source": [
        "## Посмотрим какие страны чаще всего выпускают фильмы\n",
        "Заполним пропуски на 'country unknown'"
      ],
      "metadata": {
        "id": "sVGyYLMFcUM4"
      }
    },
    {
      "cell_type": "code",
      "source": [
        "movies['country'] = movies['country'].fillna('country_unknown')"
      ],
      "metadata": {
        "id": "WutKnEIEcTSl",
        "colab": {
          "base_uri": "https://localhost:8080/"
        },
        "outputId": "2c5518cb-02ad-4e55-b5ed-89a449aa4447"
      },
      "execution_count": null,
      "outputs": [
        {
          "output_type": "stream",
          "name": "stderr",
          "text": [
            "<ipython-input-18-8fa531779610>:1: SettingWithCopyWarning:\n",
            "\n",
            "\n",
            "A value is trying to be set on a copy of a slice from a DataFrame.\n",
            "Try using .loc[row_indexer,col_indexer] = value instead\n",
            "\n",
            "See the caveats in the documentation: https://pandas.pydata.org/pandas-docs/stable/user_guide/indexing.html#returning-a-view-versus-a-copy\n",
            "\n"
          ]
        }
      ]
    },
    {
      "cell_type": "code",
      "source": [
        "movies['country'].value_counts()"
      ],
      "metadata": {
        "colab": {
          "base_uri": "https://localhost:8080/"
        },
        "id": "8gul-UYtct3I",
        "outputId": "5d6e624f-204b-43a6-8071-70219ebeb79a"
      },
      "execution_count": null,
      "outputs": [
        {
          "output_type": "execute_result",
          "data": {
            "text/plain": [
              "United States                                                   1850\n",
              "India                                                            852\n",
              "country_unknown                                                  230\n",
              "United Kingdom                                                   193\n",
              "Canada                                                           118\n",
              "                                                                ... \n",
              "United Kingdom, Denmark, Canada, Croatia                           1\n",
              "United States, South Korea                                         1\n",
              "Kenya, United States                                               1\n",
              "India, Turkey                                                      1\n",
              "Sweden, Czech Republic, United Kingdom, Denmark, Netherlands       1\n",
              "Name: country, Length: 591, dtype: int64"
            ]
          },
          "metadata": {},
          "execution_count": 19
        }
      ]
    },
    {
      "cell_type": "code",
      "source": [
        "c_dict = {}\n",
        "\n",
        "def counter (l, d): #определим небольшую функцию она нам еще не раз понадобится\n",
        "  listed = list(l)\n",
        "  for i in listed:\n",
        "    i = i.replace(' ', '')\n",
        "    i = i.split(',')\n",
        "    for j in i:\n",
        "      if j in d.keys():\n",
        "        d[j] += 1\n",
        "      else:\n",
        "        d[j] =1\n",
        "  return d\n",
        "\n",
        "counter(movies['country'], c_dict)"
      ],
      "metadata": {
        "id": "N4f8KnXregEH",
        "colab": {
          "base_uri": "https://localhost:8080/"
        },
        "outputId": "8c4040eb-34ee-4f28-ef59-a5ef8d701c80"
      },
      "execution_count": null,
      "outputs": [
        {
          "output_type": "execute_result",
          "data": {
            "text/plain": [
              "{'Mexico': 101,\n",
              " 'Singapore': 18,\n",
              " 'UnitedStates': 2431,\n",
              " 'Egypt': 97,\n",
              " 'India': 915,\n",
              " 'Thailand': 43,\n",
              " 'Nigeria': 68,\n",
              " 'Norway': 20,\n",
              " 'Iceland': 7,\n",
              " 'UnitedKingdom': 467,\n",
              " 'SouthKorea': 55,\n",
              " 'Italy': 67,\n",
              " 'Canada': 286,\n",
              " 'Indonesia': 77,\n",
              " 'Romania': 12,\n",
              " 'Spain': 158,\n",
              " 'Turkey': 80,\n",
              " 'SouthAfrica': 44,\n",
              " 'France': 265,\n",
              " 'Portugal': 4,\n",
              " 'country_unknown': 230,\n",
              " 'HongKong': 97,\n",
              " 'China': 102,\n",
              " 'Germany': 157,\n",
              " 'Argentina': 64,\n",
              " 'Serbia': 7,\n",
              " 'Denmark': 31,\n",
              " 'Poland': 28,\n",
              " 'Japan': 103,\n",
              " 'Kenya': 5,\n",
              " 'NewZealand': 20,\n",
              " 'Pakistan': 20,\n",
              " 'Australia': 84,\n",
              " 'Taiwan': 15,\n",
              " 'Netherlands': 37,\n",
              " 'Philippines': 77,\n",
              " 'UnitedArabEmirates': 33,\n",
              " 'Brazil': 59,\n",
              " 'Iran': 4,\n",
              " 'Belgium': 74,\n",
              " 'Israel': 18,\n",
              " 'Uruguay': 13,\n",
              " 'Bulgaria': 9,\n",
              " 'Chile': 21,\n",
              " 'Colombia': 17,\n",
              " 'Algeria': 2,\n",
              " 'SovietUnion': 3,\n",
              " 'Sweden': 29,\n",
              " 'Malaysia': 18,\n",
              " 'Ireland': 28,\n",
              " 'Luxembourg': 10,\n",
              " 'Austria': 10,\n",
              " 'Peru': 10,\n",
              " 'Senegal': 2,\n",
              " 'Switzerland': 16,\n",
              " 'Ghana': 4,\n",
              " 'SaudiArabia': 6,\n",
              " 'Armenia': 1,\n",
              " 'Jordan': 7,\n",
              " 'Mongolia': 1,\n",
              " 'Namibia': 2,\n",
              " 'Finland': 7,\n",
              " 'Lebanon': 19,\n",
              " 'Qatar': 7,\n",
              " 'Vietnam': 5,\n",
              " 'Russia': 10,\n",
              " 'Malta': 2,\n",
              " 'Kuwait': 4,\n",
              " 'CzechRepublic': 14,\n",
              " 'Bahamas': 1,\n",
              " 'SriLanka': 1,\n",
              " 'CaymanIslands': 2,\n",
              " 'Bangladesh': 3,\n",
              " '': 4,\n",
              " 'Zimbabwe': 3,\n",
              " 'Hungary': 8,\n",
              " 'Latvia': 1,\n",
              " 'Liechtenstein': 1,\n",
              " 'Venezuela': 3,\n",
              " 'Morocco': 6,\n",
              " 'Cambodia': 5,\n",
              " 'Albania': 1,\n",
              " 'Nicaragua': 1,\n",
              " 'Greece': 8,\n",
              " 'Croatia': 3,\n",
              " 'Guatemala': 2,\n",
              " 'WestGermany': 3,\n",
              " 'Slovenia': 3,\n",
              " 'DominicanRepublic': 1,\n",
              " 'Nepal': 2,\n",
              " 'Samoa': 1,\n",
              " 'Bermuda': 1,\n",
              " 'Ecuador': 1,\n",
              " 'Georgia': 2,\n",
              " 'Botswana': 1,\n",
              " 'Iraq': 2,\n",
              " 'VaticanCity': 1,\n",
              " 'Angola': 1,\n",
              " 'Jamaica': 1,\n",
              " 'Kazakhstan': 1,\n",
              " 'Malawi': 1,\n",
              " 'Slovakia': 1,\n",
              " 'Lithuania': 1,\n",
              " 'Afghanistan': 1,\n",
              " 'Paraguay': 1,\n",
              " 'Somalia': 1,\n",
              " 'Sudan': 1,\n",
              " 'Panama': 1,\n",
              " 'Uganda': 1,\n",
              " 'EastGermany': 1,\n",
              " 'Ukraine': 1,\n",
              " 'Montenegro': 1}"
            ]
          },
          "metadata": {},
          "execution_count": 20
        }
      ]
    },
    {
      "cell_type": "code",
      "source": [
        "del c_dict['']"
      ],
      "metadata": {
        "id": "sVCf48JViHzf"
      },
      "execution_count": null,
      "outputs": []
    },
    {
      "cell_type": "code",
      "source": [
        "def sorter (x):\n",
        "  return sorted(x.items(), key=lambda item: x[item[0]], reverse = True)[:25]"
      ],
      "metadata": {
        "id": "_Jv1fO4GjOb-"
      },
      "execution_count": null,
      "outputs": []
    },
    {
      "cell_type": "code",
      "source": [
        "names = [name for name, val in sorter(c_dict)]\n",
        "values = [val for name, val in sorter(c_dict)]\n",
        "\n",
        "plt.figure(figsize = (10, 6))\n",
        "sns.barplot (y = names, x = values)"
      ],
      "metadata": {
        "colab": {
          "base_uri": "https://localhost:8080/",
          "height": 539
        },
        "id": "koietE0Tkhsr",
        "outputId": "3c8e880d-08fb-4fb7-9b11-03c844d10681"
      },
      "execution_count": null,
      "outputs": [
        {
          "output_type": "execute_result",
          "data": {
            "text/plain": [
              "<Axes: >"
            ]
          },
          "metadata": {},
          "execution_count": 23
        },
        {
          "output_type": "display_data",
          "data": {
            "text/plain": [
              "<Figure size 1000x600 with 1 Axes>"
            ],
            "image/png": "[encoded data removed]"
          },
          "metadata": {}
        }
      ]
    },
    {
      "cell_type": "markdown",
      "source": [
        "## Посмотрим на продолжительность фильмов"
      ],
      "metadata": {
        "id": "5dYCR4zVQK94"
      }
    },
    {
      "cell_type": "code",
      "source": [
        "movies['duration']"
      ],
      "metadata": {
        "colab": {
          "base_uri": "https://localhost:8080/"
        },
        "id": "sOs_THXaN5jA",
        "outputId": "d35bd0a0-4324-4d57-8d1e-4d11651c5aff"
      },
      "execution_count": null,
      "outputs": [
        {
          "output_type": "execute_result",
          "data": {
            "text/plain": [
              "1        93 min\n",
              "2        78 min\n",
              "3        80 min\n",
              "4       123 min\n",
              "6        95 min\n",
              "         ...   \n",
              "7781     88 min\n",
              "7782     99 min\n",
              "7783    111 min\n",
              "7784     44 min\n",
              "7786     90 min\n",
              "Name: duration, Length: 5377, dtype: object"
            ]
          },
          "metadata": {},
          "execution_count": 24
        }
      ]
    },
    {
      "cell_type": "code",
      "source": [
        "movies['duration'] = movies['duration'].str.replace(' min', '').astype(int)"
      ],
      "metadata": {
        "colab": {
          "base_uri": "https://localhost:8080/"
        },
        "id": "U9IhoGlwQTNK",
        "outputId": "d5571aa7-35f1-4694-960b-db06b4542dfd"
      },
      "execution_count": null,
      "outputs": [
        {
          "output_type": "stream",
          "name": "stderr",
          "text": [
            "<ipython-input-25-3faa3ef729bc>:1: SettingWithCopyWarning:\n",
            "\n",
            "\n",
            "A value is trying to be set on a copy of a slice from a DataFrame.\n",
            "Try using .loc[row_indexer,col_indexer] = value instead\n",
            "\n",
            "See the caveats in the documentation: https://pandas.pydata.org/pandas-docs/stable/user_guide/indexing.html#returning-a-view-versus-a-copy\n",
            "\n"
          ]
        }
      ]
    },
    {
      "cell_type": "code",
      "source": [
        "plt.figure(figsize = (10, 6))\n",
        "sns.kdeplot(x = movies['duration'], data = movies)"
      ],
      "metadata": {
        "colab": {
          "base_uri": "https://localhost:8080/",
          "height": 559
        },
        "id": "3SQGIcEAQubA",
        "outputId": "46a86b6e-317d-4c24-f8cb-915addc3ed96"
      },
      "execution_count": null,
      "outputs": [
        {
          "output_type": "execute_result",
          "data": {
            "text/plain": [
              "<Axes: xlabel='duration', ylabel='Density'>"
            ]
          },
          "metadata": {},
          "execution_count": 26
        },
        {
          "output_type": "display_data",
          "data": {
            "text/plain": [
              "<Figure size 1000x600 with 1 Axes>"
            ],
            "image/png": "[encoded data removed]"
          },
          "metadata": {}
        }
      ]
    },
    {
      "cell_type": "markdown",
      "source": [
        "## Наиболее популярные жанры фильмов"
      ],
      "metadata": {
        "id": "BpZqHnq1S3oe"
      }
    },
    {
      "cell_type": "code",
      "source": [
        "movies['listed_in']"
      ],
      "metadata": {
        "colab": {
          "base_uri": "https://localhost:8080/"
        },
        "id": "jq5v8fQMSxf7",
        "outputId": "6ceb19f2-b2c8-49ac-f3fc-2f405f5ca4ab"
      },
      "execution_count": null,
      "outputs": [
        {
          "output_type": "execute_result",
          "data": {
            "text/plain": [
              "1                            Dramas, International Movies\n",
              "2                     Horror Movies, International Movies\n",
              "3       Action & Adventure, Independent Movies, Sci-Fi...\n",
              "4                                                  Dramas\n",
              "6                     Horror Movies, International Movies\n",
              "                              ...                        \n",
              "7781                   Children & Family Movies, Comedies\n",
              "7782                         Dramas, International Movies\n",
              "7783       Dramas, International Movies, Music & Musicals\n",
              "7784    Documentaries, International Movies, Music & M...\n",
              "7786                      Documentaries, Music & Musicals\n",
              "Name: listed_in, Length: 5377, dtype: object"
            ]
          },
          "metadata": {},
          "execution_count": 27
        }
      ]
    },
    {
      "cell_type": "code",
      "source": [
        "g_dict = {}\n",
        "movies['listed_in']\n",
        "\n",
        "counter(movies['listed_in'], g_dict)"
      ],
      "metadata": {
        "colab": {
          "base_uri": "https://localhost:8080/"
        },
        "id": "S80TAxaWTcz3",
        "outputId": "6aa2a957-4196-4fcf-b7ba-4b62e3813b45"
      },
      "execution_count": null,
      "outputs": [
        {
          "output_type": "execute_result",
          "data": {
            "text/plain": [
              "{'Dramas': 2106,\n",
              " 'InternationalMovies': 2437,\n",
              " 'HorrorMovies': 312,\n",
              " 'Action&Adventure': 721,\n",
              " 'IndependentMovies': 673,\n",
              " 'Sci-Fi&Fantasy': 218,\n",
              " 'Thrillers': 491,\n",
              " 'Documentaries': 786,\n",
              " 'SportsMovies': 196,\n",
              " 'Comedies': 1471,\n",
              " 'RomanticMovies': 531,\n",
              " 'Movies': 56,\n",
              " 'Music&Musicals': 321,\n",
              " 'LGBTQMovies': 90,\n",
              " 'Faith&Spirituality': 57,\n",
              " 'Children&FamilyMovies': 532,\n",
              " 'ClassicMovies': 103,\n",
              " 'CultMovies': 59,\n",
              " 'Stand-UpComedy': 329,\n",
              " 'AnimeFeatures': 57}"
            ]
          },
          "metadata": {},
          "execution_count": 28
        }
      ]
    },
    {
      "cell_type": "code",
      "source": [
        "g_names = [name for name, val in sorter(counter(movies['listed_in'], g_dict))]\n",
        "g_values = [val for name, val in sorter(counter(movies['listed_in'], g_dict))]"
      ],
      "metadata": {
        "id": "Qkd4I39SWyti"
      },
      "execution_count": null,
      "outputs": []
    },
    {
      "cell_type": "code",
      "source": [
        "plt.figure(figsize=(12,8))\n",
        "sns.barplot(x = g_values, y = g_names)\n",
        "plt.yticks(fontsize = 10)"
      ],
      "metadata": {
        "colab": {
          "base_uri": "https://localhost:8080/",
          "height": 1000
        },
        "id": "KdW-pnwdXKWx",
        "outputId": "33c4eaf8-4684-4d38-bfdf-81bb37e53611"
      },
      "execution_count": null,
      "outputs": [
        {
          "output_type": "execute_result",
          "data": {
            "text/plain": [
              "(array([ 0,  1,  2,  3,  4,  5,  6,  7,  8,  9, 10, 11, 12, 13, 14, 15, 16,\n",
              "        17, 18, 19]),\n",
              " [Text(0, 0, 'InternationalMovies'),\n",
              "  Text(0, 1, 'Dramas'),\n",
              "  Text(0, 2, 'Comedies'),\n",
              "  Text(0, 3, 'Documentaries'),\n",
              "  Text(0, 4, 'Action&Adventure'),\n",
              "  Text(0, 5, 'IndependentMovies'),\n",
              "  Text(0, 6, 'Children&FamilyMovies'),\n",
              "  Text(0, 7, 'RomanticMovies'),\n",
              "  Text(0, 8, 'Thrillers'),\n",
              "  Text(0, 9, 'Stand-UpComedy'),\n",
              "  Text(0, 10, 'Music&Musicals'),\n",
              "  Text(0, 11, 'HorrorMovies'),\n",
              "  Text(0, 12, 'Sci-Fi&Fantasy'),\n",
              "  Text(0, 13, 'SportsMovies'),\n",
              "  Text(0, 14, 'ClassicMovies'),\n",
              "  Text(0, 15, 'LGBTQMovies'),\n",
              "  Text(0, 16, 'CultMovies'),\n",
              "  Text(0, 17, 'Faith&Spirituality'),\n",
              "  Text(0, 18, 'AnimeFeatures'),\n",
              "  Text(0, 19, 'Movies')])"
            ]
          },
          "metadata": {},
          "execution_count": 30
        },
        {
          "output_type": "display_data",
          "data": {
            "text/plain": [
              "<Figure size 1200x800 with 1 Axes>"
            ],
            "image/png": "[encoded data removed]"
          },
          "metadata": {}
        }
      ]
    },
    {
      "cell_type": "markdown",
      "source": [
        "# Анализ сериалов\n",
        "Рассмотрим страны которые чаще всего создавали сериалы"
      ],
      "metadata": {
        "id": "VFD47DGqZPrL"
      }
    },
    {
      "cell_type": "code",
      "source": [
        "tvshows['country'] = tvshows['country'].fillna('unknown_country')"
      ],
      "metadata": {
        "colab": {
          "base_uri": "https://localhost:8080/"
        },
        "id": "FQyaC0DrZNoy",
        "outputId": "7a5afe48-7055-4fc3-bf09-0022b6e0ecf1"
      },
      "execution_count": null,
      "outputs": [
        {
          "output_type": "stream",
          "name": "stderr",
          "text": [
            "<ipython-input-31-e5bbfa5d9ccd>:1: SettingWithCopyWarning:\n",
            "\n",
            "\n",
            "A value is trying to be set on a copy of a slice from a DataFrame.\n",
            "Try using .loc[row_indexer,col_indexer] = value instead\n",
            "\n",
            "See the caveats in the documentation: https://pandas.pydata.org/pandas-docs/stable/user_guide/indexing.html#returning-a-view-versus-a-copy\n",
            "\n"
          ]
        }
      ]
    },
    {
      "cell_type": "code",
      "source": [
        "c_dict2 = {}\n",
        "\n",
        "counter(tvshows['country'], c_dict2)"
      ],
      "metadata": {
        "colab": {
          "base_uri": "https://localhost:8080/"
        },
        "id": "QDDbR3mrbUdX",
        "outputId": "5eadea33-0b35-4c39-a652-4500433974a0"
      },
      "execution_count": null,
      "outputs": [
        {
          "output_type": "execute_result",
          "data": {
            "text/plain": [
              "{'Brazil': 29,\n",
              " 'Turkey': 28,\n",
              " 'Poland': 8,\n",
              " 'UnitedStates': 866,\n",
              " 'Mexico': 53,\n",
              " 'unknown_country': 277,\n",
              " 'Japan': 184,\n",
              " 'SouthKorea': 157,\n",
              " 'UnitedKingdom': 256,\n",
              " 'India': 75,\n",
              " 'Canada': 126,\n",
              " 'Italy': 23,\n",
              " 'Spain': 57,\n",
              " 'Australia': 60,\n",
              " 'Taiwan': 70,\n",
              " 'China': 45,\n",
              " 'Germany': 42,\n",
              " 'France': 84,\n",
              " 'Singapore': 21,\n",
              " 'Russia': 17,\n",
              " 'Mauritius': 1,\n",
              " 'SouthAfrica': 10,\n",
              " 'Lebanon': 7,\n",
              " 'Colombia': 28,\n",
              " 'Argentina': 18,\n",
              " 'Philippines': 1,\n",
              " 'Finland': 4,\n",
              " 'Netherlands': 8,\n",
              " 'Chile': 5,\n",
              " 'Thailand': 22,\n",
              " 'Nigeria': 8,\n",
              " 'SaudiArabia': 4,\n",
              " 'Syria': 1,\n",
              " 'Egypt': 13,\n",
              " 'Kuwait': 3,\n",
              " 'Belgium': 11,\n",
              " 'Norway': 9,\n",
              " 'Sweden': 10,\n",
              " 'Denmark': 13,\n",
              " 'Israel': 8,\n",
              " 'Ireland': 12,\n",
              " 'Iceland': 2,\n",
              " 'Indonesia': 3,\n",
              " 'Malaysia': 8,\n",
              " 'NewZealand': 8,\n",
              " 'CzechRepublic': 6,\n",
              " 'Cuba': 1,\n",
              " 'Austria': 1,\n",
              " 'Greece': 2,\n",
              " 'HongKong': 5,\n",
              " 'Pakistan': 4,\n",
              " 'Luxembourg': 1,\n",
              " 'Jordan': 1,\n",
              " 'Uruguay': 1,\n",
              " 'Azerbaijan': 1,\n",
              " 'WestGermany': 2,\n",
              " 'PuertoRico': 1,\n",
              " 'Malta': 1,\n",
              " 'Senegal': 1,\n",
              " 'Ukraine': 2,\n",
              " 'Switzerland': 1,\n",
              " 'Belarus': 1,\n",
              " 'Cyprus': 1,\n",
              " 'Hungary': 1,\n",
              " 'Croatia': 1,\n",
              " 'UnitedArabEmirates': 1}"
            ]
          },
          "metadata": {},
          "execution_count": 32
        }
      ]
    },
    {
      "cell_type": "code",
      "source": [
        "names = [name for name, val in sorter(counter(tvshows['country'], c_dict2))]\n",
        "values = [val for name, val in sorter(counter(tvshows['country'], c_dict2))]"
      ],
      "metadata": {
        "id": "OV4ix9yocF_8"
      },
      "execution_count": null,
      "outputs": []
    },
    {
      "cell_type": "code",
      "source": [
        "plt.figure(figsize = (10, 6))\n",
        "sns.barplot(y = names, x = values)\n",
        "plt.yticks(fontsize = 10)"
      ],
      "metadata": {
        "colab": {
          "base_uri": "https://localhost:8080/",
          "height": 991
        },
        "id": "ALf0tuyHezpS",
        "outputId": "8879ebbf-8e83-4c2d-a2e3-86b58c59db29"
      },
      "execution_count": null,
      "outputs": [
        {
          "output_type": "execute_result",
          "data": {
            "text/plain": [
              "(array([ 0,  1,  2,  3,  4,  5,  6,  7,  8,  9, 10, 11, 12, 13, 14, 15, 16,\n",
              "        17, 18, 19, 20, 21, 22, 23, 24]),\n",
              " [Text(0, 0, 'UnitedStates'),\n",
              "  Text(0, 1, 'unknown_country'),\n",
              "  Text(0, 2, 'UnitedKingdom'),\n",
              "  Text(0, 3, 'Japan'),\n",
              "  Text(0, 4, 'SouthKorea'),\n",
              "  Text(0, 5, 'Canada'),\n",
              "  Text(0, 6, 'France'),\n",
              "  Text(0, 7, 'India'),\n",
              "  Text(0, 8, 'Taiwan'),\n",
              "  Text(0, 9, 'Australia'),\n",
              "  Text(0, 10, 'Spain'),\n",
              "  Text(0, 11, 'Mexico'),\n",
              "  Text(0, 12, 'China'),\n",
              "  Text(0, 13, 'Germany'),\n",
              "  Text(0, 14, 'Brazil'),\n",
              "  Text(0, 15, 'Turkey'),\n",
              "  Text(0, 16, 'Colombia'),\n",
              "  Text(0, 17, 'Italy'),\n",
              "  Text(0, 18, 'Thailand'),\n",
              "  Text(0, 19, 'Singapore'),\n",
              "  Text(0, 20, 'Argentina'),\n",
              "  Text(0, 21, 'Russia'),\n",
              "  Text(0, 22, 'Egypt'),\n",
              "  Text(0, 23, 'Denmark'),\n",
              "  Text(0, 24, 'Ireland')])"
            ]
          },
          "metadata": {},
          "execution_count": 34
        },
        {
          "output_type": "display_data",
          "data": {
            "text/plain": [
              "<Figure size 1000x600 with 1 Axes>"
            ],
            "image/png": "[encoded data removed]"
          },
          "metadata": {}
        }
      ]
    },
    {
      "cell_type": "markdown",
      "source": [
        "## Посмотрим на самую популярную длительность сериалов"
      ],
      "metadata": {
        "id": "hW09CXKkqu9U"
      }
    },
    {
      "cell_type": "code",
      "source": [
        "tvshows['duration']"
      ],
      "metadata": {
        "colab": {
          "base_uri": "https://localhost:8080/"
        },
        "id": "zUCDweu6qRxd",
        "outputId": "7528c3cf-505e-4c7c-80a0-08033034ee65"
      },
      "execution_count": null,
      "outputs": [
        {
          "output_type": "execute_result",
          "data": {
            "text/plain": [
              "0       4 Seasons\n",
              "5        1 Season\n",
              "11       1 Season\n",
              "12       1 Season\n",
              "16       1 Season\n",
              "          ...    \n",
              "7767     1 Season\n",
              "7775     1 Season\n",
              "7777    2 Seasons\n",
              "7779     1 Season\n",
              "7785     1 Season\n",
              "Name: duration, Length: 2410, dtype: object"
            ]
          },
          "metadata": {},
          "execution_count": 41
        }
      ]
    },
    {
      "cell_type": "code",
      "source": [
        "tvshows['duration_int']=tvshows['duration'].str.replace('Season', '').str.replace('s', '').astype(int)\n",
        "tvshows['duration_int']"
      ],
      "metadata": {
        "colab": {
          "base_uri": "https://localhost:8080/"
        },
        "id": "8Sshv425r4GT",
        "outputId": "03185963-4c93-4f30-d3a9-7ba616427200"
      },
      "execution_count": null,
      "outputs": [
        {
          "output_type": "stream",
          "name": "stderr",
          "text": [
            "<ipython-input-42-93ec3373228e>:1: SettingWithCopyWarning:\n",
            "\n",
            "\n",
            "A value is trying to be set on a copy of a slice from a DataFrame.\n",
            "Try using .loc[row_indexer,col_indexer] = value instead\n",
            "\n",
            "See the caveats in the documentation: https://pandas.pydata.org/pandas-docs/stable/user_guide/indexing.html#returning-a-view-versus-a-copy\n",
            "\n"
          ]
        },
        {
          "output_type": "execute_result",
          "data": {
            "text/plain": [
              "0       4\n",
              "5       1\n",
              "11      1\n",
              "12      1\n",
              "16      1\n",
              "       ..\n",
              "7767    1\n",
              "7775    1\n",
              "7777    2\n",
              "7779    1\n",
              "7785    1\n",
              "Name: duration_int, Length: 2410, dtype: int64"
            ]
          },
          "metadata": {},
          "execution_count": 42
        }
      ]
    },
    {
      "cell_type": "code",
      "source": [
        "plt.figure(figsize=(10, 6))\n",
        "sns.countplot(x = tvshows['duration_int'], data = tvshows)\n",
        "plt.xlabel('seasons')"
      ],
      "metadata": {
        "colab": {
          "base_uri": "https://localhost:8080/",
          "height": 559
        },
        "id": "fLvTTh-BsiA3",
        "outputId": "58a0e6bc-2c48-4230-de45-7b3f942bc55f"
      },
      "execution_count": null,
      "outputs": [
        {
          "output_type": "execute_result",
          "data": {
            "text/plain": [
              "Text(0.5, 0, 'seasons')"
            ]
          },
          "metadata": {},
          "execution_count": 43
        },
        {
          "output_type": "display_data",
          "data": {
            "text/plain": [
              "<Figure size 1000x600 with 1 Axes>"
            ],
            "image/png": "[encoded data removed]"
          },
          "metadata": {}
        }
      ]
    },
    {
      "cell_type": "markdown",
      "source": [
        "Длительность в один сезон является наиболее популярной (у этого могут быть причины и помимо популярности)"
      ],
      "metadata": {
        "id": "LKTv3JLzw4Q4"
      }
    },
    {
      "cell_type": "markdown",
      "source": [
        "##Выведем сериалы у которых больше всего сезонов"
      ],
      "metadata": {
        "id": "jjAlxrB2yaPh"
      }
    },
    {
      "cell_type": "code",
      "source": [
        "tv_dur = tvshows[['title','duration_int']]"
      ],
      "metadata": {
        "id": "tUjvcwD_tLAS"
      },
      "execution_count": null,
      "outputs": []
    },
    {
      "cell_type": "code",
      "source": [
        "top=tv_dur.sort_values(by = 'duration_int', ascending = False)[:25]"
      ],
      "metadata": {
        "id": "JqkHRI-4wdET"
      },
      "execution_count": null,
      "outputs": []
    },
    {
      "cell_type": "code",
      "source": [
        "plt.figure(figsize = (10, 6))\n",
        "sns.barplot(y = top['title'], x = top['duration_int'])\n",
        "plt.xlabel('seasons')"
      ],
      "metadata": {
        "colab": {
          "base_uri": "https://localhost:8080/",
          "height": 559
        },
        "id": "nTg-Ox1hxb_1",
        "outputId": "b8879a86-3f2a-4f77-a3b2-11371fa43eea"
      },
      "execution_count": null,
      "outputs": [
        {
          "output_type": "execute_result",
          "data": {
            "text/plain": [
              "Text(0.5, 0, 'seasons')"
            ]
          },
          "metadata": {},
          "execution_count": 74
        },
        {
          "output_type": "display_data",
          "data": {
            "text/plain": [
              "<Figure size 1000x600 with 1 Axes>"
            ],
            "image/png": "[encoded data removed]"
          },
          "metadata": {}
        }
      ]
    },
    {
      "cell_type": "markdown",
      "source": [
        "##Выведем сериалы у которых меньше всего сезонов"
      ],
      "metadata": {
        "id": "QOMOA5P8yhUh"
      }
    },
    {
      "cell_type": "code",
      "source": [
        "bottom = tv_dur.sort_values(by = 'duration_int', ascending = True)[:30]"
      ],
      "metadata": {
        "id": "OnXTYQzR1tVg"
      },
      "execution_count": null,
      "outputs": []
    },
    {
      "cell_type": "code",
      "source": [
        "fig = go.Figure(\n",
        "    data = [\n",
        "        go.Table(header = dict(values = ['Title', 'Seasons']),\n",
        "                 cells = dict (values = [bottom['title'], bottom['duration_int']]))\n",
        "])\n",
        "fig.show()"
      ],
      "metadata": {
        "colab": {
          "base_uri": "https://localhost:8080/",
          "height": 542
        },
        "id": "bv9q_8P3ySlu",
        "outputId": "db81d816-509f-44bd-a024-8ed914af3141"
      },
      "execution_count": null,
      "outputs": [
        {
          "output_type": "display_data",
          "data": {
            "text/html": [
              "<html>\n",
              "<head><meta charset=\"utf-8\" /></head>\n",
              "<body>\n",
              "    <div>            <script src=\"https://cdnjs.cloudflare.com/ajax/libs/mathjax/2.7.5/MathJax.js?config=TeX-AMS-MML_SVG\"></script><script type=\"text/javascript\">if (window.MathJax && window.MathJax.Hub && window.MathJax.Hub.Config) {window.MathJax.Hub.Config({SVG: {font: \"STIX-Web\"}});}</script>                <script type=\"text/javascript\">window.PlotlyConfig = {MathJaxConfig: 'local'};</script>\n",
              "        <script src=\"https://cdn.plot.ly/plotly-2.18.2.min.js\"></script>                <div id=\"aa6a4478-fe4d-4456-87ec-b7a421a97234\" class=\"plotly-graph-div\" style=\"height:525px; width:100%;\"></div>            <script type=\"text/javascript\">                                    window.PLOTLYENV=window.PLOTLYENV || {};                                    if (document.getElementById(\"aa6a4478-fe4d-4456-87ec-b7a421a97234\")) {                    Plotly.newPlot(                        \"aa6a4478-fe4d-4456-87ec-b7a421a97234\",                        [{\"cells\":{\"values\":[[\"Marvel's The Defenders\",\"Part-Time Idol\",\"Parasyte: The Maxim\",\"Paranormal\",\"Paranoid\",\"Paprika\",\"Pandemic: How to Prevent an Outbreak\",\"Palazuelos mi rey\",\"Pajanimals\",\"Padamu Aku Bersujud\",\"Pacific Heat\",\"Pablo Escobar, el patr\\u00f3n del mal\",\"Pablo\",\"Pasi\\u00f3n de Gavilanes\",\"Paava Kadhaigal\",\"P. King Duckling\",\"Over Christmas\",\"Outer Banks\",\"Ouran High School Host Club\",\"Our Planet\",\"Osmosis\",\"Oscar's Oasis\",\"Ordinary Heroes\",\"Operation Proposal\",\"Operation Ouch!\",\"Operation Gold Rush\",\"One-Punch Man\",\"Paap-O-Meter\",\"One Strange Rock\",\"Passion. Panache. Pep\"],[1,1,1,1,1,1,1,1,1,1,1,1,1,1,1,1,1,1,1,1,1,1,1,1,1,1,1,1,1,1]]},\"header\":{\"values\":[\"Title\",\"Seasons\"]},\"type\":\"table\"}],                        {\"template\":{\"data\":{\"histogram2dcontour\":[{\"type\":\"histogram2dcontour\",\"colorbar\":{\"outlinewidth\":0,\"ticks\":\"\"},\"colorscale\":[[0.0,\"#0d0887\"],[0.1111111111111111,\"#46039f\"],[0.2222222222222222,\"#7201a8\"],[0.3333333333333333,\"#9c179e\"],[0.4444444444444444,\"#bd3786\"],[0.5555555555555556,\"#d8576b\"],[0.6666666666666666,\"#ed7953\"],[0.7777777777777778,\"#fb9f3a\"],[0.8888888888888888,\"#fdca26\"],[1.0,\"#f0f921\"]]}],\"choropleth\":[{\"type\":\"choropleth\",\"colorbar\":{\"outlinewidth\":0,\"ticks\":\"\"}}],\"histogram2d\":[{\"type\":\"histogram2d\",\"colorbar\":{\"outlinewidth\":0,\"ticks\":\"\"},\"colorscale\":[[0.0,\"#0d0887\"],[0.1111111111111111,\"#46039f\"],[0.2222222222222222,\"#7201a8\"],[0.3333333333333333,\"#9c179e\"],[0.4444444444444444,\"#bd3786\"],[0.5555555555555556,\"#d8576b\"],[0.6666666666666666,\"#ed7953\"],[0.7777777777777778,\"#fb9f3a\"],[0.8888888888888888,\"#fdca26\"],[1.0,\"#f0f921\"]]}],\"heatmap\":[{\"type\":\"heatmap\",\"colorbar\":{\"outlinewidth\":0,\"ticks\":\"\"},\"colorscale\":[[0.0,\"#0d0887\"],[0.1111111111111111,\"#46039f\"],[0.2222222222222222,\"#7201a8\"],[0.3333333333333333,\"#9c179e\"],[0.4444444444444444,\"#bd3786\"],[0.5555555555555556,\"#d8576b\"],[0.6666666666666666,\"#ed7953\"],[0.7777777777777778,\"#fb9f3a\"],[0.8888888888888888,\"#fdca26\"],[1.0,\"#f0f921\"]]}],\"heatmapgl\":[{\"type\":\"heatmapgl\",\"colorbar\":{\"outlinewidth\":0,\"ticks\":\"\"},\"colorscale\":[[0.0,\"#0d0887\"],[0.1111111111111111,\"#46039f\"],[0.2222222222222222,\"#7201a8\"],[0.3333333333333333,\"#9c179e\"],[0.4444444444444444,\"#bd3786\"],[0.5555555555555556,\"#d8576b\"],[0.6666666666666666,\"#ed7953\"],[0.7777777777777778,\"#fb9f3a\"],[0.8888888888888888,\"#fdca26\"],[1.0,\"#f0f921\"]]}],\"contourcarpet\":[{\"type\":\"contourcarpet\",\"colorbar\":{\"outlinewidth\":0,\"ticks\":\"\"}}],\"contour\":[{\"type\":\"contour\",\"colorbar\":{\"outlinewidth\":0,\"ticks\":\"\"},\"colorscale\":[[0.0,\"#0d0887\"],[0.1111111111111111,\"#46039f\"],[0.2222222222222222,\"#7201a8\"],[0.3333333333333333,\"#9c179e\"],[0.4444444444444444,\"#bd3786\"],[0.5555555555555556,\"#d8576b\"],[0.6666666666666666,\"#ed7953\"],[0.7777777777777778,\"#fb9f3a\"],[0.8888888888888888,\"#fdca26\"],[1.0,\"#f0f921\"]]}],\"surface\":[{\"type\":\"surface\",\"colorbar\":{\"outlinewidth\":0,\"ticks\":\"\"},\"colorscale\":[[0.0,\"#0d0887\"],[0.1111111111111111,\"#46039f\"],[0.2222222222222222,\"#7201a8\"],[0.3333333333333333,\"#9c179e\"],[0.4444444444444444,\"#bd3786\"],[0.5555555555555556,\"#d8576b\"],[0.6666666666666666,\"#ed7953\"],[0.7777777777777778,\"#fb9f3a\"],[0.8888888888888888,\"#fdca26\"],[1.0,\"#f0f921\"]]}],\"mesh3d\":[{\"type\":\"mesh3d\",\"colorbar\":{\"outlinewidth\":0,\"ticks\":\"\"}}],\"scatter\":[{\"fillpattern\":{\"fillmode\":\"overlay\",\"size\":10,\"solidity\":0.2},\"type\":\"scatter\"}],\"parcoords\":[{\"type\":\"parcoords\",\"line\":{\"colorbar\":{\"outlinewidth\":0,\"ticks\":\"\"}}}],\"scatterpolargl\":[{\"type\":\"scatterpolargl\",\"marker\":{\"colorbar\":{\"outlinewidth\":0,\"ticks\":\"\"}}}],\"bar\":[{\"error_x\":{\"color\":\"#2a3f5f\"},\"error_y\":{\"color\":\"#2a3f5f\"},\"marker\":{\"line\":{\"color\":\"#E5ECF6\",\"width\":0.5},\"pattern\":{\"fillmode\":\"overlay\",\"size\":10,\"solidity\":0.2}},\"type\":\"bar\"}],\"scattergeo\":[{\"type\":\"scattergeo\",\"marker\":{\"colorbar\":{\"outlinewidth\":0,\"ticks\":\"\"}}}],\"scatterpolar\":[{\"type\":\"scatterpolar\",\"marker\":{\"colorbar\":{\"outlinewidth\":0,\"ticks\":\"\"}}}],\"histogram\":[{\"marker\":{\"pattern\":{\"fillmode\":\"overlay\",\"size\":10,\"solidity\":0.2}},\"type\":\"histogram\"}],\"scattergl\":[{\"type\":\"scattergl\",\"marker\":{\"colorbar\":{\"outlinewidth\":0,\"ticks\":\"\"}}}],\"scatter3d\":[{\"type\":\"scatter3d\",\"line\":{\"colorbar\":{\"outlinewidth\":0,\"ticks\":\"\"}},\"marker\":{\"colorbar\":{\"outlinewidth\":0,\"ticks\":\"\"}}}],\"scattermapbox\":[{\"type\":\"scattermapbox\",\"marker\":{\"colorbar\":{\"outlinewidth\":0,\"ticks\":\"\"}}}],\"scatterternary\":[{\"type\":\"scatterternary\",\"marker\":{\"colorbar\":{\"outlinewidth\":0,\"ticks\":\"\"}}}],\"scattercarpet\":[{\"type\":\"scattercarpet\",\"marker\":{\"colorbar\":{\"outlinewidth\":0,\"ticks\":\"\"}}}],\"carpet\":[{\"aaxis\":{\"endlinecolor\":\"#2a3f5f\",\"gridcolor\":\"white\",\"linecolor\":\"white\",\"minorgridcolor\":\"white\",\"startlinecolor\":\"#2a3f5f\"},\"baxis\":{\"endlinecolor\":\"#2a3f5f\",\"gridcolor\":\"white\",\"linecolor\":\"white\",\"minorgridcolor\":\"white\",\"startlinecolor\":\"#2a3f5f\"},\"type\":\"carpet\"}],\"table\":[{\"cells\":{\"fill\":{\"color\":\"#EBF0F8\"},\"line\":{\"color\":\"white\"}},\"header\":{\"fill\":{\"color\":\"#C8D4E3\"},\"line\":{\"color\":\"white\"}},\"type\":\"table\"}],\"barpolar\":[{\"marker\":{\"line\":{\"color\":\"#E5ECF6\",\"width\":0.5},\"pattern\":{\"fillmode\":\"overlay\",\"size\":10,\"solidity\":0.2}},\"type\":\"barpolar\"}],\"pie\":[{\"automargin\":true,\"type\":\"pie\"}]},\"layout\":{\"autotypenumbers\":\"strict\",\"colorway\":[\"#636efa\",\"#EF553B\",\"#00cc96\",\"#ab63fa\",\"#FFA15A\",\"#19d3f3\",\"#FF6692\",\"#B6E880\",\"#FF97FF\",\"#FECB52\"],\"font\":{\"color\":\"#2a3f5f\"},\"hovermode\":\"closest\",\"hoverlabel\":{\"align\":\"left\"},\"paper_bgcolor\":\"white\",\"plot_bgcolor\":\"#E5ECF6\",\"polar\":{\"bgcolor\":\"#E5ECF6\",\"angularaxis\":{\"gridcolor\":\"white\",\"linecolor\":\"white\",\"ticks\":\"\"},\"radialaxis\":{\"gridcolor\":\"white\",\"linecolor\":\"white\",\"ticks\":\"\"}},\"ternary\":{\"bgcolor\":\"#E5ECF6\",\"aaxis\":{\"gridcolor\":\"white\",\"linecolor\":\"white\",\"ticks\":\"\"},\"baxis\":{\"gridcolor\":\"white\",\"linecolor\":\"white\",\"ticks\":\"\"},\"caxis\":{\"gridcolor\":\"white\",\"linecolor\":\"white\",\"ticks\":\"\"}},\"coloraxis\":{\"colorbar\":{\"outlinewidth\":0,\"ticks\":\"\"}},\"colorscale\":{\"sequential\":[[0.0,\"#0d0887\"],[0.1111111111111111,\"#46039f\"],[0.2222222222222222,\"#7201a8\"],[0.3333333333333333,\"#9c179e\"],[0.4444444444444444,\"#bd3786\"],[0.5555555555555556,\"#d8576b\"],[0.6666666666666666,\"#ed7953\"],[0.7777777777777778,\"#fb9f3a\"],[0.8888888888888888,\"#fdca26\"],[1.0,\"#f0f921\"]],\"sequentialminus\":[[0.0,\"#0d0887\"],[0.1111111111111111,\"#46039f\"],[0.2222222222222222,\"#7201a8\"],[0.3333333333333333,\"#9c179e\"],[0.4444444444444444,\"#bd3786\"],[0.5555555555555556,\"#d8576b\"],[0.6666666666666666,\"#ed7953\"],[0.7777777777777778,\"#fb9f3a\"],[0.8888888888888888,\"#fdca26\"],[1.0,\"#f0f921\"]],\"diverging\":[[0,\"#8e0152\"],[0.1,\"#c51b7d\"],[0.2,\"#de77ae\"],[0.3,\"#f1b6da\"],[0.4,\"#fde0ef\"],[0.5,\"#f7f7f7\"],[0.6,\"#e6f5d0\"],[0.7,\"#b8e186\"],[0.8,\"#7fbc41\"],[0.9,\"#4d9221\"],[1,\"#276419\"]]},\"xaxis\":{\"gridcolor\":\"white\",\"linecolor\":\"white\",\"ticks\":\"\",\"title\":{\"standoff\":15},\"zerolinecolor\":\"white\",\"automargin\":true,\"zerolinewidth\":2},\"yaxis\":{\"gridcolor\":\"white\",\"linecolor\":\"white\",\"ticks\":\"\",\"title\":{\"standoff\":15},\"zerolinecolor\":\"white\",\"automargin\":true,\"zerolinewidth\":2},\"scene\":{\"xaxis\":{\"backgroundcolor\":\"#E5ECF6\",\"gridcolor\":\"white\",\"linecolor\":\"white\",\"showbackground\":true,\"ticks\":\"\",\"zerolinecolor\":\"white\",\"gridwidth\":2},\"yaxis\":{\"backgroundcolor\":\"#E5ECF6\",\"gridcolor\":\"white\",\"linecolor\":\"white\",\"showbackground\":true,\"ticks\":\"\",\"zerolinecolor\":\"white\",\"gridwidth\":2},\"zaxis\":{\"backgroundcolor\":\"#E5ECF6\",\"gridcolor\":\"white\",\"linecolor\":\"white\",\"showbackground\":true,\"ticks\":\"\",\"zerolinecolor\":\"white\",\"gridwidth\":2}},\"shapedefaults\":{\"line\":{\"color\":\"#2a3f5f\"}},\"annotationdefaults\":{\"arrowcolor\":\"#2a3f5f\",\"arrowhead\":0,\"arrowwidth\":1},\"geo\":{\"bgcolor\":\"white\",\"landcolor\":\"#E5ECF6\",\"subunitcolor\":\"white\",\"showland\":true,\"showlakes\":true,\"lakecolor\":\"white\"},\"title\":{\"x\":0.05},\"mapbox\":{\"style\":\"light\"}}}},                        {\"responsive\": true}                    ).then(function(){\n",
              "                            \n",
              "var gd = document.getElementById('aa6a4478-fe4d-4456-87ec-b7a421a97234');\n",
              "var x = new MutationObserver(function (mutations, observer) {{\n",
              "        var display = window.getComputedStyle(gd).display;\n",
              "        if (!display || display === 'none') {{\n",
              "            console.log([gd, 'removed!']);\n",
              "            Plotly.purge(gd);\n",
              "            observer.disconnect();\n",
              "        }}\n",
              "}});\n",
              "\n",
              "// Listen for the removal of the full notebook cells\n",
              "var notebookContainer = gd.closest('#notebook-container');\n",
              "if (notebookContainer) {{\n",
              "    x.observe(notebookContainer, {childList: true});\n",
              "}}\n",
              "\n",
              "// Listen for the clearing of the current output cell\n",
              "var outputEl = gd.closest('.output');\n",
              "if (outputEl) {{\n",
              "    x.observe(outputEl, {childList: true});\n",
              "}}\n",
              "\n",
              "                        })                };                            </script>        </div>\n",
              "</body>\n",
              "</html>"
            ]
          },
          "metadata": {}
        }
      ]
    },
    {
      "cell_type": "markdown",
      "source": [
        "# Перейдем к построению рекомендательных систем\n",
        "\n",
        "![Rec s.webp](data:image/webp;base64,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)\n",
        "\n"
      ],
      "metadata": {
        "id": "YXgMrTmh3x9H"
      }
    },
    {
      "cell_type": "markdown",
      "source": [
        "\n",
        "\n",
        " *   Мешок слов\n",
        " *   TF-IDF <---\n",
        "\n",
        " Обратимся ко второму методу, который является более точным чем мешок слов (так как не учитывает вспомогательные слова, союзы и т.д.)\n",
        "\n",
        "\n",
        "\n"
      ],
      "metadata": {
        "id": "6LYZhqSD6A5v"
      }
    },
    {
      "cell_type": "code",
      "source": [
        "from sklearn.feature_extraction.text import TfidfVectorizer['description']"
      ],
      "metadata": {
        "id": "afKkJT8J1zOU"
      },
      "execution_count": null,
      "outputs": []
    },
    {
      "cell_type": "code",
      "source": [
        "movies['description'].isna().sum()"
      ],
      "metadata": {
        "colab": {
          "base_uri": "https://localhost:8080/"
        },
        "id": "SzsOWhoi7uX0",
        "outputId": "fcf1b5d9-1ba7-48bf-eca8-2787fffa6dc1"
      },
      "execution_count": null,
      "outputs": [
        {
          "output_type": "execute_result",
          "data": {
            "text/plain": [
              "0"
            ]
          },
          "metadata": {},
          "execution_count": 82
        }
      ]
    },
    {
      "cell_type": "code",
      "source": [
        "Tfidf = TfidfVectorizer(stop_words = 'english')\n",
        "Tfidf_matrix = Tfidf.fit_transform(movies['description']) #обучаем и переводим в вектор (каждый фильм - вектор)"
      ],
      "metadata": {
        "id": "SCFFhW8b8Kg1"
      },
      "execution_count": null,
      "outputs": []
    },
    {
      "cell_type": "markdown",
      "source": [
        "\n",
        "\n",
        "##Давать рекомендации мы будем опираясь на косинусную похожесть (вычисление угла между векторами)\n",
        "\n"
      ],
      "metadata": {
        "id": "YoBeVVhm81U8"
      }
    },
    {
      "cell_type": "code",
      "source": [
        "from sklearn.metrics.pairwise import cosine_similarity"
      ],
      "metadata": {
        "id": "gaM7MDSqCwqD"
      },
      "execution_count": null,
      "outputs": []
    },
    {
      "cell_type": "markdown",
      "source": [
        "Создадим матрицу с вещественными значениями"
      ],
      "metadata": {
        "id": "XLUfUxFCQwu6"
      }
    },
    {
      "cell_type": "code",
      "source": [
        "cosine_sim = cosine_similarity(Tfidf_matrix, Tfidf_matrix)\n",
        "cosine_sim"
      ],
      "metadata": {
        "colab": {
          "base_uri": "https://localhost:8080/"
        },
        "id": "f4jQrfvUDchP",
        "outputId": "353fd6aa-4bcc-4bb6-b116-b38392c34941"
      },
      "execution_count": null,
      "outputs": [
        {
          "output_type": "execute_result",
          "data": {
            "text/plain": [
              "array([[1.        , 0.        , 0.        , ..., 0.        , 0.09305242,\n",
              "        0.        ],\n",
              "       [0.        , 1.        , 0.        , ..., 0.        , 0.        ,\n",
              "        0.        ],\n",
              "       [0.        , 0.        , 1.        , ..., 0.07593931, 0.        ,\n",
              "        0.        ],\n",
              "       ...,\n",
              "       [0.        , 0.        , 0.07593931, ..., 1.        , 0.        ,\n",
              "        0.        ],\n",
              "       [0.09305242, 0.        , 0.        , ..., 0.        , 1.        ,\n",
              "        0.02580113],\n",
              "       [0.        , 0.        , 0.        , ..., 0.        , 0.02580113,\n",
              "        1.        ]])"
            ]
          },
          "metadata": {},
          "execution_count": 89
        }
      ]
    },
    {
      "cell_type": "code",
      "source": [
        "indices = pd.Series(movies.index, index=movies['title']).drop_duplicates()\n",
        "indices"
      ],
      "metadata": {
        "colab": {
          "base_uri": "https://localhost:8080/"
        },
        "id": "Mc-_5xmwDwL6",
        "outputId": "7a7df827-c882-4ad1-fa3b-bf8bd6ae0dd0"
      },
      "execution_count": null,
      "outputs": [
        {
          "output_type": "execute_result",
          "data": {
            "text/plain": [
              "title\n",
              "7:19                                          1\n",
              "23:59                                         2\n",
              "9                                             3\n",
              "21                                            4\n",
              "122                                           6\n",
              "                                           ... \n",
              "Zoom                                       7781\n",
              "Zozo                                       7782\n",
              "Zubaan                                     7783\n",
              "Zulu Man in Japan                          7784\n",
              "ZZ TOP: THAT LITTLE OL' BAND FROM TEXAS    7786\n",
              "Length: 5377, dtype: int64"
            ]
          },
          "metadata": {},
          "execution_count": 92
        }
      ]
    },
    {
      "cell_type": "markdown",
      "source": [
        "Создадим дата фрейм с нашими значениями похожести"
      ],
      "metadata": {
        "id": "FEOahtxJF0u3"
      }
    },
    {
      "cell_type": "code",
      "source": [
        "cosine_df = pd.DataFrame(cosine_sim)\n",
        "\n",
        "cosine_df.columns = indices.index\n",
        "\n",
        "cosine_df['title'] = indices.index\n",
        "cosine_df = cosine_df.set_index('title')\n",
        "\n",
        "cosine_df"
      ],
      "metadata": {
        "colab": {
          "base_uri": "https://localhost:8080/",
          "height": 534
        },
        "id": "MyKLEKJDEmi6",
        "outputId": "ad7fa9eb-2d33-46fa-a1f9-0e470ade45ce"
      },
      "execution_count": null,
      "outputs": [
        {
          "output_type": "execute_result",
          "data": {
            "text/plain": [
              "title                                        7:19  23:59         9        21  \\\n",
              "title                                                                          \n",
              "7:19                                     1.000000    0.0  0.000000  0.000000   \n",
              "23:59                                    0.000000    1.0  0.000000  0.000000   \n",
              "9                                        0.000000    0.0  1.000000  0.029333   \n",
              "21                                       0.000000    0.0  0.029333  1.000000   \n",
              "122                                      0.000000    0.0  0.000000  0.000000   \n",
              "...                                           ...    ...       ...       ...   \n",
              "Zoom                                     0.016381    0.0  0.000000  0.000000   \n",
              "Zozo                                     0.000000    0.0  0.000000  0.000000   \n",
              "Zubaan                                   0.000000    0.0  0.075939  0.000000   \n",
              "Zulu Man in Japan                        0.093052    0.0  0.000000  0.000000   \n",
              "ZZ TOP: THAT LITTLE OL' BAND FROM TEXAS  0.000000    0.0  0.000000  0.000000   \n",
              "\n",
              "title                                    122       187  706  1920      1922  \\\n",
              "title                                                                         \n",
              "7:19                                     0.0  0.027618  0.0   0.0  0.000000   \n",
              "23:59                                    0.0  0.000000  0.0   0.0  0.000000   \n",
              "9                                        0.0  0.000000  0.0   0.0  0.000000   \n",
              "21                                       0.0  0.037268  0.0   0.0  0.000000   \n",
              "122                                      1.0  0.000000  0.0   0.0  0.041665   \n",
              "...                                      ...       ...  ...   ...       ...   \n",
              "Zoom                                     0.0  0.015344  0.0   0.0  0.000000   \n",
              "Zozo                                     0.0  0.000000  0.0   0.0  0.000000   \n",
              "Zubaan                                   0.0  0.000000  0.0   0.0  0.000000   \n",
              "Zulu Man in Japan                        0.0  0.028203  0.0   0.0  0.000000   \n",
              "ZZ TOP: THAT LITTLE OL' BAND FROM TEXAS  0.0  0.000000  0.0   0.0  0.000000   \n",
              "\n",
              "title                                       2,215  ...  Zoé: Panoramas  \\\n",
              "title                                              ...                   \n",
              "7:19                                     0.000000  ...        0.000000   \n",
              "23:59                                    0.000000  ...        0.000000   \n",
              "9                                        0.000000  ...        0.000000   \n",
              "21                                       0.000000  ...        0.000000   \n",
              "122                                      0.000000  ...        0.000000   \n",
              "...                                           ...  ...             ...   \n",
              "Zoom                                     0.000000  ...        0.000000   \n",
              "Zozo                                     0.000000  ...        0.000000   \n",
              "Zubaan                                   0.000000  ...        0.000000   \n",
              "Zulu Man in Japan                        0.023132  ...        0.000000   \n",
              "ZZ TOP: THAT LITTLE OL' BAND FROM TEXAS  0.078376  ...        0.049668   \n",
              "\n",
              "title                                    Zodiac  Zokkomon  Zombieland  \\\n",
              "title                                                                   \n",
              "7:19                                        0.0       0.0    0.000000   \n",
              "23:59                                       0.0       0.0    0.000000   \n",
              "9                                           0.0       0.0    0.023371   \n",
              "21                                          0.0       0.0    0.000000   \n",
              "122                                         0.0       0.0    0.000000   \n",
              "...                                         ...       ...         ...   \n",
              "Zoom                                        0.0       0.0    0.000000   \n",
              "Zozo                                        0.0       0.0    0.000000   \n",
              "Zubaan                                      0.0       0.0    0.000000   \n",
              "Zulu Man in Japan                           0.0       0.0    0.000000   \n",
              "ZZ TOP: THAT LITTLE OL' BAND FROM TEXAS     0.0       0.0    0.000000   \n",
              "\n",
              "title                                         Zoo      Zoom      Zozo  \\\n",
              "title                                                                   \n",
              "7:19                                     0.000000  0.016381  0.000000   \n",
              "23:59                                    0.042022  0.000000  0.000000   \n",
              "9                                        0.000000  0.000000  0.000000   \n",
              "21                                       0.000000  0.000000  0.000000   \n",
              "122                                      0.000000  0.000000  0.000000   \n",
              "...                                           ...       ...       ...   \n",
              "Zoom                                     0.000000  1.000000  0.000000   \n",
              "Zozo                                     0.000000  0.000000  1.000000   \n",
              "Zubaan                                   0.000000  0.000000  0.022703   \n",
              "Zulu Man in Japan                        0.000000  0.000000  0.000000   \n",
              "ZZ TOP: THAT LITTLE OL' BAND FROM TEXAS  0.000000  0.000000  0.000000   \n",
              "\n",
              "title                                      Zubaan  Zulu Man in Japan  \\\n",
              "title                                                                  \n",
              "7:19                                     0.000000           0.093052   \n",
              "23:59                                    0.000000           0.000000   \n",
              "9                                        0.075939           0.000000   \n",
              "21                                       0.000000           0.000000   \n",
              "122                                      0.000000           0.000000   \n",
              "...                                           ...                ...   \n",
              "Zoom                                     0.000000           0.000000   \n",
              "Zozo                                     0.022703           0.000000   \n",
              "Zubaan                                   1.000000           0.000000   \n",
              "Zulu Man in Japan                        0.000000           1.000000   \n",
              "ZZ TOP: THAT LITTLE OL' BAND FROM TEXAS  0.000000           0.025801   \n",
              "\n",
              "title                                    ZZ TOP: THAT LITTLE OL' BAND FROM TEXAS  \n",
              "title                                                                             \n",
              "7:19                                                                    0.000000  \n",
              "23:59                                                                   0.000000  \n",
              "9                                                                       0.000000  \n",
              "21                                                                      0.000000  \n",
              "122                                                                     0.000000  \n",
              "...                                                                          ...  \n",
              "Zoom                                                                    0.000000  \n",
              "Zozo                                                                    0.000000  \n",
              "Zubaan                                                                  0.000000  \n",
              "Zulu Man in Japan                                                       0.025801  \n",
              "ZZ TOP: THAT LITTLE OL' BAND FROM TEXAS                                 1.000000  \n",
              "\n",
              "[5377 rows x 5377 columns]"
            ],
            "text/html": [
              "\n",
              "  <div id=\"df-9dcd2326-934f-4670-92a9-b4952daee3e6\">\n",
              "    <div class=\"colab-df-container\">\n",
              "      <div>\n",
              "<style scoped>\n",
              "    .dataframe tbody tr th:only-of-type {\n",
              "        vertical-align: middle;\n",
              "    }\n",
              "\n",
              "    .dataframe tbody tr th {\n",
              "        vertical-align: top;\n",
              "    }\n",
              "\n",
              "    .dataframe thead th {\n",
              "        text-align: right;\n",
              "    }\n",
              "</style>\n",
              "<table border=\"1\" class=\"dataframe\">\n",
              "  <thead>\n",
              "    <tr style=\"text-align: right;\">\n",
              "      <th>title</th>\n",
              "      <th>7:19</th>\n",
              "      <th>23:59</th>\n",
              "      <th>9</th>\n",
              "      <th>21</th>\n",
              "      <th>122</th>\n",
              "      <th>187</th>\n",
              "      <th>706</th>\n",
              "      <th>1920</th>\n",
              "      <th>1922</th>\n",
              "      <th>2,215</th>\n",
              "      <th>...</th>\n",
              "      <th>Zoé: Panoramas</th>\n",
              "      <th>Zodiac</th>\n",
              "      <th>Zokkomon</th>\n",
              "      <th>Zombieland</th>\n",
              "      <th>Zoo</th>\n",
              "      <th>Zoom</th>\n",
              "      <th>Zozo</th>\n",
              "      <th>Zubaan</th>\n",
              "      <th>Zulu Man in Japan</th>\n",
              "      <th>ZZ TOP: THAT LITTLE OL' BAND FROM TEXAS</th>\n",
              "    </tr>\n",
              "    <tr>\n",
              "      <th>title</th>\n",
              "      <th></th>\n",
              "      <th></th>\n",
              "      <th></th>\n",
              "      <th></th>\n",
              "      <th></th>\n",
              "      <th></th>\n",
              "      <th></th>\n",
              "      <th></th>\n",
              "      <th></th>\n",
              "      <th></th>\n",
              "      <th></th>\n",
              "      <th></th>\n",
              "      <th></th>\n",
              "      <th></th>\n",
              "      <th></th>\n",
              "      <th></th>\n",
              "      <th></th>\n",
              "      <th></th>\n",
              "      <th></th>\n",
              "      <th></th>\n",
              "      <th></th>\n",
              "    </tr>\n",
              "  </thead>\n",
              "  <tbody>\n",
              "    <tr>\n",
              "      <th>7:19</th>\n",
              "      <td>1.000000</td>\n",
              "      <td>0.0</td>\n",
              "      <td>0.000000</td>\n",
              "      <td>0.000000</td>\n",
              "      <td>0.0</td>\n",
              "      <td>0.027618</td>\n",
              "      <td>0.0</td>\n",
              "      <td>0.0</td>\n",
              "      <td>0.000000</td>\n",
              "      <td>0.000000</td>\n",
              "      <td>...</td>\n",
              "      <td>0.000000</td>\n",
              "      <td>0.0</td>\n",
              "      <td>0.0</td>\n",
              "      <td>0.000000</td>\n",
              "      <td>0.000000</td>\n",
              "      <td>0.016381</td>\n",
              "      <td>0.000000</td>\n",
              "      <td>0.000000</td>\n",
              "      <td>0.093052</td>\n",
              "      <td>0.000000</td>\n",
              "    </tr>\n",
              "    <tr>\n",
              "      <th>23:59</th>\n",
              "      <td>0.000000</td>\n",
              "      <td>1.0</td>\n",
              "      <td>0.000000</td>\n",
              "      <td>0.000000</td>\n",
              "      <td>0.0</td>\n",
              "      <td>0.000000</td>\n",
              "      <td>0.0</td>\n",
              "      <td>0.0</td>\n",
              "      <td>0.000000</td>\n",
              "      <td>0.000000</td>\n",
              "      <td>...</td>\n",
              "      <td>0.000000</td>\n",
              "      <td>0.0</td>\n",
              "      <td>0.0</td>\n",
              "      <td>0.000000</td>\n",
              "      <td>0.042022</td>\n",
              "      <td>0.000000</td>\n",
              "      <td>0.000000</td>\n",
              "      <td>0.000000</td>\n",
              "      <td>0.000000</td>\n",
              "      <td>0.000000</td>\n",
              "    </tr>\n",
              "    <tr>\n",
              "      <th>9</th>\n",
              "      <td>0.000000</td>\n",
              "      <td>0.0</td>\n",
              "      <td>1.000000</td>\n",
              "      <td>0.029333</td>\n",
              "      <td>0.0</td>\n",
              "      <td>0.000000</td>\n",
              "      <td>0.0</td>\n",
              "      <td>0.0</td>\n",
              "      <td>0.000000</td>\n",
              "      <td>0.000000</td>\n",
              "      <td>...</td>\n",
              "      <td>0.000000</td>\n",
              "      <td>0.0</td>\n",
              "      <td>0.0</td>\n",
              "      <td>0.023371</td>\n",
              "      <td>0.000000</td>\n",
              "      <td>0.000000</td>\n",
              "      <td>0.000000</td>\n",
              "      <td>0.075939</td>\n",
              "      <td>0.000000</td>\n",
              "      <td>0.000000</td>\n",
              "    </tr>\n",
              "    <tr>\n",
              "      <th>21</th>\n",
              "      <td>0.000000</td>\n",
              "      <td>0.0</td>\n",
              "      <td>0.029333</td>\n",
              "      <td>1.000000</td>\n",
              "      <td>0.0</td>\n",
              "      <td>0.037268</td>\n",
              "      <td>0.0</td>\n",
              "      <td>0.0</td>\n",
              "      <td>0.000000</td>\n",
              "      <td>0.000000</td>\n",
              "      <td>...</td>\n",
              "      <td>0.000000</td>\n",
              "      <td>0.0</td>\n",
              "      <td>0.0</td>\n",
              "      <td>0.000000</td>\n",
              "      <td>0.000000</td>\n",
              "      <td>0.000000</td>\n",
              "      <td>0.000000</td>\n",
              "      <td>0.000000</td>\n",
              "      <td>0.000000</td>\n",
              "      <td>0.000000</td>\n",
              "    </tr>\n",
              "    <tr>\n",
              "      <th>122</th>\n",
              "      <td>0.000000</td>\n",
              "      <td>0.0</td>\n",
              "      <td>0.000000</td>\n",
              "      <td>0.000000</td>\n",
              "      <td>1.0</td>\n",
              "      <td>0.000000</td>\n",
              "      <td>0.0</td>\n",
              "      <td>0.0</td>\n",
              "      <td>0.041665</td>\n",
              "      <td>0.000000</td>\n",
              "      <td>...</td>\n",
              "      <td>0.000000</td>\n",
              "      <td>0.0</td>\n",
              "      <td>0.0</td>\n",
              "      <td>0.000000</td>\n",
              "      <td>0.000000</td>\n",
              "      <td>0.000000</td>\n",
              "      <td>0.000000</td>\n",
              "      <td>0.000000</td>\n",
              "      <td>0.000000</td>\n",
              "      <td>0.000000</td>\n",
              "    </tr>\n",
              "    <tr>\n",
              "      <th>...</th>\n",
              "      <td>...</td>\n",
              "      <td>...</td>\n",
              "      <td>...</td>\n",
              "      <td>...</td>\n",
              "      <td>...</td>\n",
              "      <td>...</td>\n",
              "      <td>...</td>\n",
              "      <td>...</td>\n",
              "      <td>...</td>\n",
              "      <td>...</td>\n",
              "      <td>...</td>\n",
              "      <td>...</td>\n",
              "      <td>...</td>\n",
              "      <td>...</td>\n",
              "      <td>...</td>\n",
              "      <td>...</td>\n",
              "      <td>...</td>\n",
              "      <td>...</td>\n",
              "      <td>...</td>\n",
              "      <td>...</td>\n",
              "      <td>...</td>\n",
              "    </tr>\n",
              "    <tr>\n",
              "      <th>Zoom</th>\n",
              "      <td>0.016381</td>\n",
              "      <td>0.0</td>\n",
              "      <td>0.000000</td>\n",
              "      <td>0.000000</td>\n",
              "      <td>0.0</td>\n",
              "      <td>0.015344</td>\n",
              "      <td>0.0</td>\n",
              "      <td>0.0</td>\n",
              "      <td>0.000000</td>\n",
              "      <td>0.000000</td>\n",
              "      <td>...</td>\n",
              "      <td>0.000000</td>\n",
              "      <td>0.0</td>\n",
              "      <td>0.0</td>\n",
              "      <td>0.000000</td>\n",
              "      <td>0.000000</td>\n",
              "      <td>1.000000</td>\n",
              "      <td>0.000000</td>\n",
              "      <td>0.000000</td>\n",
              "      <td>0.000000</td>\n",
              "      <td>0.000000</td>\n",
              "    </tr>\n",
              "    <tr>\n",
              "      <th>Zozo</th>\n",
              "      <td>0.000000</td>\n",
              "      <td>0.0</td>\n",
              "      <td>0.000000</td>\n",
              "      <td>0.000000</td>\n",
              "      <td>0.0</td>\n",
              "      <td>0.000000</td>\n",
              "      <td>0.0</td>\n",
              "      <td>0.0</td>\n",
              "      <td>0.000000</td>\n",
              "      <td>0.000000</td>\n",
              "      <td>...</td>\n",
              "      <td>0.000000</td>\n",
              "      <td>0.0</td>\n",
              "      <td>0.0</td>\n",
              "      <td>0.000000</td>\n",
              "      <td>0.000000</td>\n",
              "      <td>0.000000</td>\n",
              "      <td>1.000000</td>\n",
              "      <td>0.022703</td>\n",
              "      <td>0.000000</td>\n",
              "      <td>0.000000</td>\n",
              "    </tr>\n",
              "    <tr>\n",
              "      <th>Zubaan</th>\n",
              "      <td>0.000000</td>\n",
              "      <td>0.0</td>\n",
              "      <td>0.075939</td>\n",
              "      <td>0.000000</td>\n",
              "      <td>0.0</td>\n",
              "      <td>0.000000</td>\n",
              "      <td>0.0</td>\n",
              "      <td>0.0</td>\n",
              "      <td>0.000000</td>\n",
              "      <td>0.000000</td>\n",
              "      <td>...</td>\n",
              "      <td>0.000000</td>\n",
              "      <td>0.0</td>\n",
              "      <td>0.0</td>\n",
              "      <td>0.000000</td>\n",
              "      <td>0.000000</td>\n",
              "      <td>0.000000</td>\n",
              "      <td>0.022703</td>\n",
              "      <td>1.000000</td>\n",
              "      <td>0.000000</td>\n",
              "      <td>0.000000</td>\n",
              "    </tr>\n",
              "    <tr>\n",
              "      <th>Zulu Man in Japan</th>\n",
              "      <td>0.093052</td>\n",
              "      <td>0.0</td>\n",
              "      <td>0.000000</td>\n",
              "      <td>0.000000</td>\n",
              "      <td>0.0</td>\n",
              "      <td>0.028203</td>\n",
              "      <td>0.0</td>\n",
              "      <td>0.0</td>\n",
              "      <td>0.000000</td>\n",
              "      <td>0.023132</td>\n",
              "      <td>...</td>\n",
              "      <td>0.000000</td>\n",
              "      <td>0.0</td>\n",
              "      <td>0.0</td>\n",
              "      <td>0.000000</td>\n",
              "      <td>0.000000</td>\n",
              "      <td>0.000000</td>\n",
              "      <td>0.000000</td>\n",
              "      <td>0.000000</td>\n",
              "      <td>1.000000</td>\n",
              "      <td>0.025801</td>\n",
              "    </tr>\n",
              "    <tr>\n",
              "      <th>ZZ TOP: THAT LITTLE OL' BAND FROM TEXAS</th>\n",
              "      <td>0.000000</td>\n",
              "      <td>0.0</td>\n",
              "      <td>0.000000</td>\n",
              "      <td>0.000000</td>\n",
              "      <td>0.0</td>\n",
              "      <td>0.000000</td>\n",
              "      <td>0.0</td>\n",
              "      <td>0.0</td>\n",
              "      <td>0.000000</td>\n",
              "      <td>0.078376</td>\n",
              "      <td>...</td>\n",
              "      <td>0.049668</td>\n",
              "      <td>0.0</td>\n",
              "      <td>0.0</td>\n",
              "      <td>0.000000</td>\n",
              "      <td>0.000000</td>\n",
              "      <td>0.000000</td>\n",
              "      <td>0.000000</td>\n",
              "      <td>0.000000</td>\n",
              "      <td>0.025801</td>\n",
              "      <td>1.000000</td>\n",
              "    </tr>\n",
              "  </tbody>\n",
              "</table>\n",
              "<p>5377 rows × 5377 columns</p>\n",
              "</div>\n",
              "      <button class=\"colab-df-convert\" onclick=\"convertToInteractive('df-9dcd2326-934f-4670-92a9-b4952daee3e6')\"\n",
              "              title=\"Convert this dataframe to an interactive table.\"\n",
              "              style=\"display:none;\">\n",
              "        \n",
              "  <svg xmlns=\"http://www.w3.org/2000/svg\" height=\"24px\"viewBox=\"0 0 24 24\"\n",
              "       width=\"24px\">\n",
              "    <path d=\"M0 0h24v24H0V0z\" fill=\"none\"/>\n",
              "    <path d=\"M18.56 5.44l.94 2.06.94-2.06 2.06-.94-2.06-.94-.94-2.06-.94 2.06-2.06.94zm-11 1L8.5 8.5l.94-2.06 2.06-.94-2.06-.94L8.5 2.5l-.94 2.06-2.06.94zm10 10l.94 2.06.94-2.06 2.06-.94-2.06-.94-.94-2.06-.94 2.06-2.06.94z\"/><path d=\"M17.41 7.96l-1.37-1.37c-.4-.4-.92-.59-1.43-.59-.52 0-1.04.2-1.43.59L10.3 9.45l-7.72 7.72c-.78.78-.78 2.05 0 2.83L4 21.41c.39.39.9.59 1.41.59.51 0 1.02-.2 1.41-.59l7.78-7.78 2.81-2.81c.8-.78.8-2.07 0-2.86zM5.41 20L4 18.59l7.72-7.72 1.47 1.35L5.41 20z\"/>\n",
              "  </svg>\n",
              "      </button>\n",
              "      \n",
              "  <style>\n",
              "    .colab-df-container {\n",
              "      display:flex;\n",
              "      flex-wrap:wrap;\n",
              "      gap: 12px;\n",
              "    }\n",
              "\n",
              "    .colab-df-convert {\n",
              "      background-color: #E8F0FE;\n",
              "      border: none;\n",
              "      border-radius: 50%;\n",
              "      cursor: pointer;\n",
              "      display: none;\n",
              "      fill: #1967D2;\n",
              "      height: 32px;\n",
              "      padding: 0 0 0 0;\n",
              "      width: 32px;\n",
              "    }\n",
              "\n",
              "    .colab-df-convert:hover {\n",
              "      background-color: #E2EBFA;\n",
              "      box-shadow: 0px 1px 2px rgba(60, 64, 67, 0.3), 0px 1px 3px 1px rgba(60, 64, 67, 0.15);\n",
              "      fill: #174EA6;\n",
              "    }\n",
              "\n",
              "    [theme=dark] .colab-df-convert {\n",
              "      background-color: #3B4455;\n",
              "      fill: #D2E3FC;\n",
              "    }\n",
              "\n",
              "    [theme=dark] .colab-df-convert:hover {\n",
              "      background-color: #434B5C;\n",
              "      box-shadow: 0px 1px 3px 1px rgba(0, 0, 0, 0.15);\n",
              "      filter: drop-shadow(0px 1px 2px rgba(0, 0, 0, 0.3));\n",
              "      fill: #FFFFFF;\n",
              "    }\n",
              "  </style>\n",
              "\n",
              "      <script>\n",
              "        const buttonEl =\n",
              "          document.querySelector('#df-9dcd2326-934f-4670-92a9-b4952daee3e6 button.colab-df-convert');\n",
              "        buttonEl.style.display =\n",
              "          google.colab.kernel.accessAllowed ? 'block' : 'none';\n",
              "\n",
              "        async function convertToInteractive(key) {\n",
              "          const element = document.querySelector('#df-9dcd2326-934f-4670-92a9-b4952daee3e6');\n",
              "          const dataTable =\n",
              "            await google.colab.kernel.invokeFunction('convertToInteractive',\n",
              "                                                     [key], {});\n",
              "          if (!dataTable) return;\n",
              "\n",
              "          const docLinkHtml = 'Like what you see? Visit the ' +\n",
              "            '<a target=\"_blank\" href=https://colab.research.google.com/notebooks/data_table.ipynb>data table notebook</a>'\n",
              "            + ' to learn more about interactive tables.';\n",
              "          element.innerHTML = '';\n",
              "          dataTable['output_type'] = 'display_data';\n",
              "          await google.colab.output.renderOutput(dataTable, element);\n",
              "          const docLink = document.createElement('div');\n",
              "          docLink.innerHTML = docLinkHtml;\n",
              "          element.appendChild(docLink);\n",
              "        }\n",
              "      </script>\n",
              "    </div>\n",
              "  </div>\n",
              "  "
            ]
          },
          "metadata": {},
          "execution_count": 100
        }
      ]
    },
    {
      "cell_type": "markdown",
      "source": [
        "Напишем функцию, которая будет выдавать наиболее похожие фильмы к фильму клиента"
      ],
      "metadata": {
        "id": "dEKRvkHIGLNu"
      }
    },
    {
      "cell_type": "code",
      "source": [
        "def recomendations (title, cosine_sim = cosine_df):\n",
        "  idx = indices[title]\n",
        "  scores = list(enumerate(cosine_df.loc[title])) #берем значения похожести\n",
        "\n",
        "  scores = sorted(scores, key = lambda x: x[1], reverse = True)[:11] #сортируем\n",
        "\n",
        "  m_indices = [i[0] for i in scores] #получаем индексы фильмов\n",
        "  return movies['title'].iloc[m_indices] #возвращаем названия"
      ],
      "metadata": {
        "id": "xNOA_ZpSGJC1"
      },
      "execution_count": null,
      "outputs": []
    },
    {
      "cell_type": "markdown",
      "source": [
        "##Проверяем получившуюся функцию"
      ],
      "metadata": {
        "id": "v6xHLpg-MiHm"
      }
    },
    {
      "cell_type": "code",
      "source": [
        "recomendations('Zoom')"
      ],
      "metadata": {
        "colab": {
          "base_uri": "https://localhost:8080/"
        },
        "id": "Zwu9dTdiMki1",
        "outputId": "1aee3d08-ac92-447a-9060-fa17bf6e6c48"
      },
      "execution_count": null,
      "outputs": [
        {
          "output_type": "execute_result",
          "data": {
            "text/plain": [
              "7781                        Zoom\n",
              "5753                Spider-Man 3\n",
              "4034                      Menahi\n",
              "962             Black Site Delta\n",
              "878            Beyond the Clouds\n",
              "7061          Thorne: Sleepyhead\n",
              "7180           Train of the Dead\n",
              "7115            To Be of Service\n",
              "886               Bhangra Paa Le\n",
              "738     Barbie in Princess Power\n",
              "4271                   Mugamoodi\n",
              "Name: title, dtype: object"
            ]
          },
          "metadata": {},
          "execution_count": 125
        }
      ]
    },
    {
      "cell_type": "code",
      "source": [
        "movies[movies['title'] == 'Zoom'].description.iloc[0]"
      ],
      "metadata": {
        "colab": {
          "base_uri": "https://localhost:8080/",
          "height": 38
        },
        "id": "ovYkBhSHNjUa",
        "outputId": "5cf3dd1b-d295-48a1-9a54-8fcc7f0eef4d"
      },
      "execution_count": null,
      "outputs": [
        {
          "output_type": "execute_result",
          "data": {
            "text/plain": [
              "'Dragged from civilian life, a former superhero must train a new crop of youthful saviors when the military preps for an attack by a familiar villain.'"
            ],
            "application/vnd.google.colaboratory.intrinsic+json": {
              "type": "string"
            }
          },
          "metadata": {},
          "execution_count": 128
        }
      ]
    },
    {
      "cell_type": "code",
      "source": [
        "movies[movies['title'] == 'Spider-Man 3'].description.iloc[0]"
      ],
      "metadata": {
        "colab": {
          "base_uri": "https://localhost:8080/",
          "height": 38
        },
        "id": "Vj2zEHRROwFW",
        "outputId": "4bfb4605-b269-4599-919f-46af2f1f67d0"
      },
      "execution_count": null,
      "outputs": [
        {
          "output_type": "execute_result",
          "data": {
            "text/plain": [
              "'The seemingly invincible Spider-Man goes up against an all-new crop of villains in the third installment of the blockbuster adventure series.'"
            ],
            "application/vnd.google.colaboratory.intrinsic+json": {
              "type": "string"
            }
          },
          "metadata": {},
          "execution_count": 129
        }
      ]
    },
    {
      "cell_type": "code",
      "source": [
        "movies[movies['title'] == 'Menahi'].description.iloc[0]"
      ],
      "metadata": {
        "colab": {
          "base_uri": "https://localhost:8080/",
          "height": 38
        },
        "id": "sYhGCOuoQ7t_",
        "outputId": "5429b22e-abfe-4b94-9c20-6d95523460fd"
      },
      "execution_count": null,
      "outputs": [
        {
          "output_type": "execute_result",
          "data": {
            "text/plain": [
              "'A stranger to civilian life, a young Saudi farmer travels to Dubai, where he experiences a series of hilarious misadventures.'"
            ],
            "application/vnd.google.colaboratory.intrinsic+json": {
              "type": "string"
            }
          },
          "metadata": {},
          "execution_count": 131
        }
      ]
    },
    {
      "cell_type": "code",
      "source": [
        "movies[movies['title'] == 'Black Site Delta'].description.iloc[0]"
      ],
      "metadata": {
        "colab": {
          "base_uri": "https://localhost:8080/",
          "height": 38
        },
        "id": "17bi9Pd1RI5v",
        "outputId": "3874975b-a7cc-45e0-dfc4-7b1990a6a073"
      },
      "execution_count": null,
      "outputs": [
        {
          "output_type": "execute_result",
          "data": {
            "text/plain": [
              "'After discovering that their secret military prison is under attack by terrorists, a ragtag group of inmates does their best to neutralize the enemy.'"
            ],
            "application/vnd.google.colaboratory.intrinsic+json": {
              "type": "string"
            }
          },
          "metadata": {},
          "execution_count": 132
        }
      ]
    },
    {
      "cell_type": "markdown",
      "source": [
        "Все работает!"
      ],
      "metadata": {
        "id": "2VwVPQbVQ4WC"
      }
    }
  ]
}